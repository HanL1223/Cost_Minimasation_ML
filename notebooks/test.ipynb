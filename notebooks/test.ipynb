{
 "cells": [
  {
   "cell_type": "code",
   "execution_count": 1,
   "id": "0b2f170f",
   "metadata": {},
   "outputs": [],
   "source": [
    "#Overarching importation\n",
    "import sys, os\n",
    "PROJECT_ROOT = os.path.abspath(\"..\")  # go up one directory from notebooks/\n",
    "if PROJECT_ROOT not in sys.path:\n",
    "    sys.path.insert(0, PROJECT_ROOT)"
   ]
  },
  {
   "cell_type": "code",
   "execution_count": 2,
   "id": "ff9328fa",
   "metadata": {},
   "outputs": [],
   "source": [
    "from src.Ingest_Data import DataIngestorFactory\n",
    "from src.Missing_value_handling import MissingValueHandler,FillMissingValue,DropMissingValue\n",
    "\n",
    "#-------#\n",
    "# To help with reading and manipulating data\n",
    "import pandas as pd\n",
    "import numpy as np\n",
    "\n",
    "# To help with data visualization\n",
    "%matplotlib inline\n",
    "import matplotlib.pyplot as plt\n",
    "import seaborn as sns\n",
    "\n",
    "# To be used for missing value imputation\n",
    "from sklearn.impute import SimpleImputer\n",
    "\n",
    "# To help with model building\n",
    "from sklearn.linear_model import LogisticRegression\n",
    "from sklearn.tree import DecisionTreeClassifier\n",
    "from sklearn.ensemble import (\n",
    "    AdaBoostClassifier,\n",
    "    GradientBoostingClassifier,\n",
    "    RandomForestClassifier,\n",
    "    BaggingClassifier,\n",
    ")\n",
    "from xgboost import XGBClassifier\n",
    "\n",
    "# To get different metric scores, and split data\n",
    "from sklearn import metrics\n",
    "#---#\n",
    "from sklearn.model_selection import train_test_split, StratifiedKFold, cross_val_score\n",
    "from sklearn.metrics import (\n",
    "    f1_score,\n",
    "    accuracy_score,\n",
    "    recall_score,\n",
    "    precision_score,\n",
    "    confusion_matrix,\n",
    "    roc_auc_score\n",
    ")\n",
    "\n",
    "# To oversample and undersample data\n",
    "from imblearn.over_sampling import SMOTE\n",
    "from imblearn.under_sampling import RandomUnderSampler\n",
    "\n",
    "# To be used for data scaling and one hot encoding\n",
    "from sklearn.preprocessing import StandardScaler, MinMaxScaler, OneHotEncoder\n",
    "\n",
    "# To be used for tuning the model\n",
    "from sklearn.model_selection import GridSearchCV, RandomizedSearchCV\n",
    "\n",
    "# To use statistical functions\n",
    "import scipy.stats as stats\n",
    "\n",
    "# To be used for creating pipelines and personalizing them\n",
    "from sklearn.pipeline import Pipeline\n",
    "from sklearn.compose import ColumnTransformer\n",
    "\n",
    "# To define maximum number of columns to be displayed in a dataframe\n",
    "pd.set_option(\"display.max_columns\", None)\n",
    "\n",
    "# To supress scientific notations for a dataframe\n",
    "pd.set_option(\"display.float_format\", lambda x: \"%.3f\" % x)\n",
    "\n",
    "# To supress warnings\n",
    "import warnings\n",
    "\n",
    "warnings.filterwarnings(\"ignore\")"
   ]
  },
  {
   "cell_type": "code",
   "execution_count": 3,
   "id": "6e764bad",
   "metadata": {},
   "outputs": [],
   "source": [
    "#Load Data\n",
    "BASE_URL = \"http://127.0.0.1:8000\"\n",
    "TRAIN_ENDPOINT = f\"{BASE_URL}/train\"\n",
    "TEST_ENDPOINT = f\"{BASE_URL}/test\""
   ]
  },
  {
   "cell_type": "code",
   "execution_count": 4,
   "id": "c08bae3e",
   "metadata": {},
   "outputs": [
    {
     "name": "stdout",
     "output_type": "stream",
     "text": [
      "2025-10-05 16:58:28 [INFO] src.Ingest_Data: Fetching data from API endpoint: http://127.0.0.1:8000/train\n",
      "2025-10-05 16:58:30 [INFO] src.Ingest_Data: Received 40000 records from API\n"
     ]
    }
   ],
   "source": [
    "df_train = DataIngestorFactory.get_data_ingestor(TRAIN_ENDPOINT).ingest(TRAIN_ENDPOINT)"
   ]
  },
  {
   "cell_type": "code",
   "execution_count": 5,
   "id": "db641607",
   "metadata": {},
   "outputs": [],
   "source": [
    "#df_train['Target']"
   ]
  },
  {
   "cell_type": "code",
   "execution_count": 6,
   "id": "ba6c0440",
   "metadata": {},
   "outputs": [],
   "source": [
    "#df_train[\"Target\"].value_counts().plot(kind ='barh')"
   ]
  },
  {
   "cell_type": "code",
   "execution_count": 7,
   "id": "3ee272f3",
   "metadata": {},
   "outputs": [],
   "source": [
    "import src.scaler as scaler"
   ]
  },
  {
   "cell_type": "code",
   "execution_count": 8,
   "id": "4dde4d04",
   "metadata": {},
   "outputs": [
    {
     "name": "stdout",
     "output_type": "stream",
     "text": [
      "2025-10-05 16:58:30 [INFO] src.scaler: Applying SMOTEENN hybrid resampling. Input size: (40000, 41)\n",
      "2025-10-05 16:58:34 [INFO] src.scaler: SMOTEENN complete. Output size: (73091, 41)\n"
     ]
    }
   ],
   "source": [
    "df_scaled = scaler.SMOTEENNSampler().impute(df_train,target_col='Target')"
   ]
  },
  {
   "cell_type": "code",
   "execution_count": 9,
   "id": "7f7d4f82",
   "metadata": {},
   "outputs": [],
   "source": [
    "# df_scaled[\"Target\"].value_counts().plot(kind ='barh')\n",
    "# df_scaled['Target'].value_counts()"
   ]
  },
  {
   "cell_type": "code",
   "execution_count": 10,
   "id": "921b6478",
   "metadata": {},
   "outputs": [],
   "source": [
    "from src.Model_Selector import CrossValidationEvaluation,ModelEvaluator"
   ]
  },
  {
   "cell_type": "code",
   "execution_count": 11,
   "id": "f156d63d",
   "metadata": {},
   "outputs": [],
   "source": [
    "# #Model Selection\n",
    "# models = []  # Empty list to store all the models\n",
    "\n",
    "# # Appending models into the list\n",
    "# models.append((\"Logistic Regression\", LogisticRegression(solver=\"newton-cg\", random_state=1)))\n",
    "# models.append((\"Decision Tree\", DecisionTreeClassifier(random_state=1)))\n",
    "# models.append((\"XGBoost\", XGBClassifier(random_state=1, eval_metric=\"logloss\", device='cpu')))\n",
    "\n",
    "# strategy = CrossValidationEvaluation()\n",
    "# evaluator = ModelEvaluator(strategy)\n",
    "\n",
    "\n",
    "# # Evaluate models\n",
    "# results = evaluator.evaluate_models(models, df_scaled.drop('Target',axis = 1), df_scaled['Target'])"
   ]
  },
  {
   "cell_type": "code",
   "execution_count": 12,
   "id": "fa540275",
   "metadata": {},
   "outputs": [],
   "source": [
    "# 1️⃣ Define features and target\n",
    "X = df_scaled.drop('Target', axis=1)\n",
    "y = df_scaled['Target']\n",
    "\n",
    "# 2️⃣ Split into training and validation sets\n",
    "X_train, X_val, y_train, y_val = train_test_split(\n",
    "    X, y, \n",
    "    test_size=0.33,      # 33% validation data\n",
    "    random_state=42,     # ensures reproducibility\n",
    "    stratify=y           # keeps class balance (important for imbalance)\n",
    ")\n"
   ]
  },
  {
   "cell_type": "code",
   "execution_count": 13,
   "id": "d7c64c41",
   "metadata": {},
   "outputs": [],
   "source": [
    "project_root = os.path.abspath(os.path.join(os.getcwd(), \"..\"))\n",
    "config_path = os.path.join(project_root, \"config\")"
   ]
  },
  {
   "cell_type": "code",
   "execution_count": null,
   "id": "0e7c9d37",
   "metadata": {},
   "outputs": [],
   "source": []
  },
  {
   "cell_type": "code",
   "execution_count": 14,
   "id": "83397fd9",
   "metadata": {},
   "outputs": [
    {
     "name": "stdout",
     "output_type": "stream",
     "text": [
      "<class 'pandas.core.frame.DataFrame'>\n",
      "RangeIndex: 73091 entries, 0 to 73090\n",
      "Data columns (total 40 columns):\n",
      " #   Column  Non-Null Count  Dtype  \n",
      "---  ------  --------------  -----  \n",
      " 0   V1      73091 non-null  float64\n",
      " 1   V2      73091 non-null  float64\n",
      " 2   V3      73091 non-null  float64\n",
      " 3   V4      73091 non-null  float64\n",
      " 4   V5      73091 non-null  float64\n",
      " 5   V6      73091 non-null  float64\n",
      " 6   V7      73091 non-null  float64\n",
      " 7   V8      73091 non-null  float64\n",
      " 8   V9      73091 non-null  float64\n",
      " 9   V10     73091 non-null  float64\n",
      " 10  V11     73091 non-null  float64\n",
      " 11  V12     73091 non-null  float64\n",
      " 12  V13     73091 non-null  float64\n",
      " 13  V14     73091 non-null  float64\n",
      " 14  V15     73091 non-null  float64\n",
      " 15  V16     73091 non-null  float64\n",
      " 16  V17     73091 non-null  float64\n",
      " 17  V18     73091 non-null  float64\n",
      " 18  V19     73091 non-null  float64\n",
      " 19  V20     73091 non-null  float64\n",
      " 20  V21     73091 non-null  float64\n",
      " 21  V22     73091 non-null  float64\n",
      " 22  V23     73091 non-null  float64\n",
      " 23  V24     73091 non-null  float64\n",
      " 24  V25     73091 non-null  float64\n",
      " 25  V26     73091 non-null  float64\n",
      " 26  V27     73091 non-null  float64\n",
      " 27  V28     73091 non-null  float64\n",
      " 28  V29     73091 non-null  float64\n",
      " 29  V30     73091 non-null  float64\n",
      " 30  V31     73091 non-null  float64\n",
      " 31  V32     73091 non-null  float64\n",
      " 32  V33     73091 non-null  float64\n",
      " 33  V34     73091 non-null  float64\n",
      " 34  V35     73091 non-null  float64\n",
      " 35  V36     73091 non-null  float64\n",
      " 36  V37     73091 non-null  float64\n",
      " 37  V38     73091 non-null  float64\n",
      " 38  V39     73091 non-null  float64\n",
      " 39  V40     73091 non-null  float64\n",
      "dtypes: float64(40)\n",
      "memory usage: 22.3 MB\n"
     ]
    }
   ],
   "source": [
    "X.info()"
   ]
  },
  {
   "cell_type": "code",
   "execution_count": 15,
   "id": "3fd6ef19",
   "metadata": {},
   "outputs": [
    {
     "name": "stdout",
     "output_type": "stream",
     "text": [
      "✅ YAML loaded successfully\n",
      "{'max_depth': {'low': 3, 'high': 12, 'method': 'int'}, 'learning_rate': {'low': 0.01, 'high': 0.3, 'method': 'float'}, 'n_estimators': {'low': 100, 'high': 2000, 'method': 'int'}, 'subsample': {'low': 0.5, 'high': 1.0, 'method': 'float'}, 'colsample_bytree': {'low': 0.5, 'high': 1.0, 'method': 'float'}, 'gamma': {'low': 0, 'high': 5, 'method': 'float'}, 'min_child_weight': {'low': 1, 'high': 10, 'method': 'int'}, 'reg_alpha': {'low': 0, 'high': 1, 'method': 'float'}, 'reg_lambda': {'low': 0, 'high': 1, 'method': 'float'}}\n",
      "2025-10-05 16:58:34 [INFO] src.Model_Tuner: Loaded tuning configuration for xgbclassifier from C:\\Users\\laaro\\OneDrive\\桌面\\Cost_Minimasation_ML\\config\\xgbclassifier.yaml\n",
      "2025-10-05 16:58:34 [INFO] src.Model_Tuner: Starting Optuna optimization for xgbclassifier (100 trials)...\n"
     ]
    },
    {
     "name": "stderr",
     "output_type": "stream",
     "text": [
      "[I 2025-10-05 16:58:34,930] A new study created in memory with name: xgbclassifier_optuna_tuning\n"
     ]
    },
    {
     "data": {
      "application/vnd.jupyter.widget-view+json": {
       "model_id": "1e449a0196794cc9958f1be42c26da9a",
       "version_major": 2,
       "version_minor": 0
      },
      "text/plain": [
       "  0%|          | 0/100 [00:00<?, ?it/s]"
      ]
     },
     "metadata": {},
     "output_type": "display_data"
    },
    {
     "name": "stdout",
     "output_type": "stream",
     "text": [
      "[I 2025-10-05 16:58:43,864] Trial 0 finished with value: 2.5130632198415452 and parameters: {'max_depth': 10, 'learning_rate': 0.2015240378133949, 'n_estimators': 1997, 'subsample': 0.7622785905295169, 'colsample_bytree': 0.7480401366717921, 'gamma': 4.214679035113745, 'min_child_weight': 4, 'reg_alpha': 0.7665866098015518, 'reg_lambda': 0.631693045631458}. Best is trial 0 with value: 2.5130632198415452.\n",
      "[I 2025-10-05 16:58:48,248] Trial 1 finished with value: 2.4973995378677207 and parameters: {'max_depth': 3, 'learning_rate': 0.14318128610605346, 'n_estimators': 566, 'subsample': 0.6372014050767707, 'colsample_bytree': 0.850726540712077, 'gamma': 1.173028313102325, 'min_child_weight': 8, 'reg_alpha': 0.7477026330866718, 'reg_lambda': 0.931295858125587}. Best is trial 0 with value: 2.5130632198415452.\n",
      "[I 2025-10-05 16:58:56,298] Trial 2 finished with value: 2.5036955242827195 and parameters: {'max_depth': 5, 'learning_rate': 0.09268503556538826, 'n_estimators': 1653, 'subsample': 0.6387077769509638, 'colsample_bytree': 0.9324564995914133, 'gamma': 3.9449985189019987, 'min_child_weight': 5, 'reg_alpha': 0.4381633477533805, 'reg_lambda': 0.17851147694186564}. Best is trial 0 with value: 2.5130632198415452.\n",
      "[I 2025-10-05 16:59:03,725] Trial 3 finished with value: 2.579968050624353 and parameters: {'max_depth': 10, 'learning_rate': 0.23936603935777695, 'n_estimators': 1400, 'subsample': 0.8328218400497656, 'colsample_bytree': 0.8748675593269822, 'gamma': 1.150995881118741, 'min_child_weight': 5, 'reg_alpha': 0.6384516689976129, 'reg_lambda': 0.9620368723824605}. Best is trial 3 with value: 2.579968050624353.\n",
      "[I 2025-10-05 16:59:11,614] Trial 4 finished with value: 2.576617152611564 and parameters: {'max_depth': 10, 'learning_rate': 0.23096262691649816, 'n_estimators': 1739, 'subsample': 0.8242176542998725, 'colsample_bytree': 0.6033941269942924, 'gamma': 1.102811983961169, 'min_child_weight': 10, 'reg_alpha': 0.8324646882313752, 'reg_lambda': 0.7036374746238329}. Best is trial 3 with value: 2.579968050624353.\n",
      "[I 2025-10-05 16:59:15,107] Trial 5 finished with value: 2.569113853889333 and parameters: {'max_depth': 10, 'learning_rate': 0.09916702529015309, 'n_estimators': 331, 'subsample': 0.8057762337320118, 'colsample_bytree': 0.8405102786545409, 'gamma': 1.3257159986020377, 'min_child_weight': 1, 'reg_alpha': 0.6225637388000126, 'reg_lambda': 0.7837429379457983}. Best is trial 3 with value: 2.579968050624353.\n",
      "[I 2025-10-05 16:59:20,960] Trial 6 finished with value: 2.5933574022692127 and parameters: {'max_depth': 12, 'learning_rate': 0.0855331328321664, 'n_estimators': 763, 'subsample': 0.9868045225931713, 'colsample_bytree': 0.8746669338278892, 'gamma': 0.45264340131073444, 'min_child_weight': 3, 'reg_alpha': 0.7232325596987464, 'reg_lambda': 0.8245966862228391}. Best is trial 6 with value: 2.5933574022692127.\n",
      "[I 2025-10-05 16:59:23,874] Trial 7 finished with value: 2.5954730498927816 and parameters: {'max_depth': 6, 'learning_rate': 0.1882610758825571, 'n_estimators': 402, 'subsample': 0.9520929658039412, 'colsample_bytree': 0.7947247395635693, 'gamma': 0.2317171769269466, 'min_child_weight': 10, 'reg_alpha': 0.8636476507074843, 'reg_lambda': 0.6731662420255783}. Best is trial 7 with value: 2.5954730498927816.\n",
      "[I 2025-10-05 16:59:30,051] Trial 8 finished with value: 2.5805649444252894 and parameters: {'max_depth': 11, 'learning_rate': 0.11876915702818287, 'n_estimators': 1302, 'subsample': 0.960390320074743, 'colsample_bytree': 0.91254908725081, 'gamma': 0.8688232297991616, 'min_child_weight': 4, 'reg_alpha': 0.7802578882876455, 'reg_lambda': 0.8788049879987209}. Best is trial 7 with value: 2.5954730498927816.\n",
      "[I 2025-10-05 16:59:32,382] Trial 9 finished with value: 2.5054364636200326 and parameters: {'max_depth': 8, 'learning_rate': 0.14269143764227907, 'n_estimators': 417, 'subsample': 0.6878663567708987, 'colsample_bytree': 0.5689241986611702, 'gamma': 3.6552160452010876, 'min_child_weight': 5, 'reg_alpha': 0.6604683563586472, 'reg_lambda': 0.8036300710855994}. Best is trial 7 with value: 2.5954730498927816.\n",
      "[I 2025-10-05 16:59:34,047] Trial 10 finished with value: 2.3420824367443176 and parameters: {'max_depth': 6, 'learning_rate': 0.018430024832935155, 'n_estimators': 124, 'subsample': 0.5083817954217412, 'colsample_bytree': 0.7041418380213305, 'gamma': 2.65782686629206, 'min_child_weight': 8, 'reg_alpha': 0.08409927512112181, 'reg_lambda': 0.4065776140545966}. Best is trial 7 with value: 2.5954730498927816.\n",
      "[I 2025-10-05 16:59:38,125] Trial 11 finished with value: 2.60590961508968 and parameters: {'max_depth': 7, 'learning_rate': 0.29374815806370935, 'n_estimators': 883, 'subsample': 0.9993187012551997, 'colsample_bytree': 0.784376506082383, 'gamma': 0.06598745018489474, 'min_child_weight': 1, 'reg_alpha': 0.9991379827091834, 'reg_lambda': 0.48782442091414013}. Best is trial 11 with value: 2.60590961508968.\n",
      "[I 2025-10-05 16:59:43,826] Trial 12 finished with value: 2.612387373828343 and parameters: {'max_depth': 7, 'learning_rate': 0.2895982052939653, 'n_estimators': 896, 'subsample': 0.9079533934096132, 'colsample_bytree': 0.6751995436313024, 'gamma': 0.0050367268541869625, 'min_child_weight': 8, 'reg_alpha': 0.9937011747602126, 'reg_lambda': 0.4514966730816888}. Best is trial 12 with value: 2.612387373828343.\n",
      "[I 2025-10-05 16:59:47,455] Trial 13 finished with value: 2.552784517480606 and parameters: {'max_depth': 8, 'learning_rate': 0.2939852490495101, 'n_estimators': 939, 'subsample': 0.8977733313390237, 'colsample_bytree': 0.6630153005800912, 'gamma': 2.0574660397786673, 'min_child_weight': 7, 'reg_alpha': 0.9668336757591427, 'reg_lambda': 0.44594492524531787}. Best is trial 12 with value: 2.612387373828343.\n",
      "[I 2025-10-05 16:59:51,416] Trial 14 finished with value: 2.483909981867118 and parameters: {'max_depth': 7, 'learning_rate': 0.2952228509143967, 'n_estimators': 1080, 'subsample': 0.8974857121840212, 'colsample_bytree': 0.6602579959806252, 'gamma': 4.964353191657929, 'min_child_weight': 1, 'reg_alpha': 0.9669256289094642, 'reg_lambda': 0.27433666120298994}. Best is trial 12 with value: 2.612387373828343.\n",
      "[I 2025-10-05 16:59:55,728] Trial 15 finished with value: 2.588343395217841 and parameters: {'max_depth': 3, 'learning_rate': 0.2607058598576426, 'n_estimators': 809, 'subsample': 0.8820766968383545, 'colsample_bytree': 0.9990245337027421, 'gamma': 0.011828627489014476, 'min_child_weight': 7, 'reg_alpha': 0.42358146150672593, 'reg_lambda': 0.539100104518643}. Best is trial 12 with value: 2.612387373828343.\n",
      "[I 2025-10-05 16:59:59,701] Trial 16 finished with value: 2.502286137489624 and parameters: {'max_depth': 5, 'learning_rate': 0.26250962128443645, 'n_estimators': 1118, 'subsample': 0.997812233071985, 'colsample_bytree': 0.5218464789965601, 'gamma': 2.142824909721698, 'min_child_weight': 2, 'reg_alpha': 0.28014206389650215, 'reg_lambda': 0.031981936118099075}. Best is trial 12 with value: 2.612387373828343.\n",
      "[I 2025-10-05 17:00:04,493] Trial 17 finished with value: 2.505723925928007 and parameters: {'max_depth': 7, 'learning_rate': 0.18900218063816687, 'n_estimators': 1294, 'subsample': 0.9243221753835013, 'colsample_bytree': 0.7353706749478806, 'gamma': 2.9831157458503803, 'min_child_weight': 7, 'reg_alpha': 0.9807853369330019, 'reg_lambda': 0.36246350880295675}. Best is trial 12 with value: 2.612387373828343.\n",
      "[I 2025-10-05 17:00:07,616] Trial 18 finished with value: 2.5612603395395075 and parameters: {'max_depth': 9, 'learning_rate': 0.2996194260877863, 'n_estimators': 717, 'subsample': 0.8592192629770423, 'colsample_bytree': 0.7936376629067616, 'gamma': 1.6686631320071441, 'min_child_weight': 9, 'reg_alpha': 0.8859737794831225, 'reg_lambda': 0.5583182229902596}. Best is trial 12 with value: 2.612387373828343.\n",
      "[I 2025-10-05 17:00:12,442] Trial 19 finished with value: 2.6034100018779447 and parameters: {'max_depth': 5, 'learning_rate': 0.2224245034151342, 'n_estimators': 955, 'subsample': 0.7339041765675479, 'colsample_bytree': 0.6555740136415794, 'gamma': 0.290115070042294, 'min_child_weight': 6, 'reg_alpha': 0.5449508786184034, 'reg_lambda': 0.2516582048115872}. Best is trial 12 with value: 2.612387373828343.\n",
      "[I 2025-10-05 17:00:15,321] Trial 20 finished with value: 2.581687444931382 and parameters: {'max_depth': 4, 'learning_rate': 0.26357874912889817, 'n_estimators': 543, 'subsample': 0.9343559740581445, 'colsample_bytree': 0.7939642091188686, 'gamma': 0.6719629615716558, 'min_child_weight': 2, 'reg_alpha': 0.27265799477471914, 'reg_lambda': 0.10017990619446054}. Best is trial 12 with value: 2.612387373828343.\n",
      "[I 2025-10-05 17:00:21,578] Trial 21 finished with value: 2.6130670049374265 and parameters: {'max_depth': 6, 'learning_rate': 0.22373861044120236, 'n_estimators': 988, 'subsample': 0.7545894599651516, 'colsample_bytree': 0.6374614203911625, 'gamma': 0.07641730379813438, 'min_child_weight': 6, 'reg_alpha': 0.006405015401704628, 'reg_lambda': 0.26668944974715764}. Best is trial 21 with value: 2.6130670049374265.\n",
      "[I 2025-10-05 17:00:29,124] Trial 22 finished with value: 2.607732174560776 and parameters: {'max_depth': 6, 'learning_rate': 0.26980187465330335, 'n_estimators': 1150, 'subsample': 0.5233222366879939, 'colsample_bytree': 0.6055193078278546, 'gamma': 0.03525975147005633, 'min_child_weight': 6, 'reg_alpha': 0.0075628754300847275, 'reg_lambda': 0.31593151161055355}. Best is trial 21 with value: 2.6130670049374265.\n",
      "[I 2025-10-05 17:00:34,360] Trial 23 finished with value: 2.5935404755044447 and parameters: {'max_depth': 6, 'learning_rate': 0.2633657052733406, 'n_estimators': 1146, 'subsample': 0.5077286004308309, 'colsample_bytree': 0.5825236241767654, 'gamma': 0.7921580429832961, 'min_child_weight': 6, 'reg_alpha': 0.049056228505554786, 'reg_lambda': 0.320442270753147}. Best is trial 21 with value: 2.6130670049374265.\n",
      "[I 2025-10-05 17:00:41,105] Trial 24 finished with value: 2.5991013778812406 and parameters: {'max_depth': 8, 'learning_rate': 0.20525749385037861, 'n_estimators': 1475, 'subsample': 0.5744908422809142, 'colsample_bytree': 0.515449378178788, 'gamma': 0.5046054706205254, 'min_child_weight': 8, 'reg_alpha': 0.15688966065689358, 'reg_lambda': 0.1931571478736716}. Best is trial 21 with value: 2.6130670049374265.\n",
      "[I 2025-10-05 17:00:47,040] Trial 25 finished with value: 2.6066177509654636 and parameters: {'max_depth': 4, 'learning_rate': 0.17385530425210344, 'n_estimators': 1022, 'subsample': 0.7574239108836099, 'colsample_bytree': 0.5985783273877543, 'gamma': 0.0018649135871937617, 'min_child_weight': 6, 'reg_alpha': 0.18764005679150508, 'reg_lambda': 0.3520290684049362}. Best is trial 21 with value: 2.6130670049374265.\n",
      "[I 2025-10-05 17:00:50,329] Trial 26 finished with value: 2.5720112184354433 and parameters: {'max_depth': 6, 'learning_rate': 0.2446616521104085, 'n_estimators': 662, 'subsample': 0.5612417702802777, 'colsample_bytree': 0.691653190705836, 'gamma': 1.7198940084081964, 'min_child_weight': 9, 'reg_alpha': 0.10717796887980595, 'reg_lambda': 0.16115738248593459}. Best is trial 21 with value: 2.6130670049374265.\n",
      "[I 2025-10-05 17:00:55,703] Trial 27 finished with value: 2.6021417768323745 and parameters: {'max_depth': 9, 'learning_rate': 0.27853130920701485, 'n_estimators': 1233, 'subsample': 0.6988966293553784, 'colsample_bytree': 0.6384824848669874, 'gamma': 0.5909049968560742, 'min_child_weight': 7, 'reg_alpha': 0.014539628217331539, 'reg_lambda': 0.2657301107250857}. Best is trial 21 with value: 2.6130670049374265.\n",
      "[I 2025-10-05 17:01:01,537] Trial 28 finished with value: 2.5600773614908894 and parameters: {'max_depth': 4, 'learning_rate': 0.2191511749453611, 'n_estimators': 1541, 'subsample': 0.7894029129949682, 'colsample_bytree': 0.5573118928961618, 'gamma': 1.5444268207293563, 'min_child_weight': 4, 'reg_alpha': 0.2899009769352841, 'reg_lambda': 0.46643945648256424}. Best is trial 21 with value: 2.6130670049374265.\n",
      "[I 2025-10-05 17:01:09,132] Trial 29 finished with value: 2.5913052332747823 and parameters: {'max_depth': 7, 'learning_rate': 0.2101558515634581, 'n_estimators': 1876, 'subsample': 0.6095301861321082, 'colsample_bytree': 0.6240177331082267, 'gamma': 0.8577021101818801, 'min_child_weight': 9, 'reg_alpha': 0.36785345671669534, 'reg_lambda': 0.618417294451925}. Best is trial 21 with value: 2.6130670049374265.\n",
      "[I 2025-10-05 17:01:13,729] Trial 30 finished with value: 2.532870180197269 and parameters: {'max_depth': 5, 'learning_rate': 0.2489108938744298, 'n_estimators': 1199, 'subsample': 0.727249298012554, 'colsample_bytree': 0.7158689382926658, 'gamma': 2.9387169070854644, 'min_child_weight': 6, 'reg_alpha': 0.17599806651360744, 'reg_lambda': 0.012012985192421888}. Best is trial 21 with value: 2.6130670049374265.\n",
      "[I 2025-10-05 17:01:19,438] Trial 31 finished with value: 2.606745830219309 and parameters: {'max_depth': 4, 'learning_rate': 0.170027023959094, 'n_estimators': 1004, 'subsample': 0.7706247529187916, 'colsample_bytree': 0.5493763506904238, 'gamma': 0.10925320947350937, 'min_child_weight': 6, 'reg_alpha': 0.1689950719324148, 'reg_lambda': 0.34130657132001685}. Best is trial 21 with value: 2.6130670049374265.\n",
      "[I 2025-10-05 17:01:24,182] Trial 32 finished with value: 2.568464513992857 and parameters: {'max_depth': 3, 'learning_rate': 0.16416957181353337, 'n_estimators': 989, 'subsample': 0.6876661464857918, 'colsample_bytree': 0.5463823807848261, 'gamma': 0.35650028723211535, 'min_child_weight': 5, 'reg_alpha': 0.013750862362238058, 'reg_lambda': 0.3939727839809467}. Best is trial 21 with value: 2.6130670049374265.\n",
      "[I 2025-10-05 17:01:28,696] Trial 33 finished with value: 2.602349106488121 and parameters: {'max_depth': 6, 'learning_rate': 0.1907994824211933, 'n_estimators': 858, 'subsample': 0.7573999685037458, 'colsample_bytree': 0.6077785498632987, 'gamma': 0.3470426793139945, 'min_child_weight': 8, 'reg_alpha': 0.1158657055560935, 'reg_lambda': 0.3050548762072356}. Best is trial 21 with value: 2.6130670049374265.\n",
      "[I 2025-10-05 17:01:32,066] Trial 34 finished with value: 2.5779548567705257 and parameters: {'max_depth': 5, 'learning_rate': 0.1449559181619287, 'n_estimators': 595, 'subsample': 0.6521980465528497, 'colsample_bytree': 0.5028255938608217, 'gamma': 0.983949301595521, 'min_child_weight': 7, 'reg_alpha': 0.23043020617047238, 'reg_lambda': 0.12742749262448524}. Best is trial 21 with value: 2.6130670049374265.\n",
      "[I 2025-10-05 17:01:39,323] Trial 35 finished with value: 2.611481566491701 and parameters: {'max_depth': 4, 'learning_rate': 0.2754379770345728, 'n_estimators': 1328, 'subsample': 0.7924217642768273, 'colsample_bytree': 0.5455612252459233, 'gamma': 0.00015069796477164277, 'min_child_weight': 5, 'reg_alpha': 0.00010267137035268638, 'reg_lambda': 0.2216781077945224}. Best is trial 21 with value: 2.6130670049374265.\n",
      "[I 2025-10-05 17:01:44,555] Trial 36 finished with value: 2.582292262453217 and parameters: {'max_depth': 9, 'learning_rate': 0.2783992967829101, 'n_estimators': 1397, 'subsample': 0.8376363699911179, 'colsample_bytree': 0.6877122162516179, 'gamma': 1.3161197342183428, 'min_child_weight': 4, 'reg_alpha': 0.06552294940726705, 'reg_lambda': 0.22236754115033383}. Best is trial 21 with value: 2.6130670049374265.\n",
      "[I 2025-10-05 17:01:50,587] Trial 37 finished with value: 2.5931502569644187 and parameters: {'max_depth': 6, 'learning_rate': 0.27992458421804634, 'n_estimators': 1601, 'subsample': 0.8058148754797151, 'colsample_bytree': 0.6273875406455068, 'gamma': 0.6612424958712131, 'min_child_weight': 5, 'reg_alpha': 0.5224306943994982, 'reg_lambda': 0.07129413237916365}. Best is trial 21 with value: 2.6130670049374265.\n",
      "[I 2025-10-05 17:01:56,590] Trial 38 finished with value: 2.5217243547835473 and parameters: {'max_depth': 7, 'learning_rate': 0.2324724751911208, 'n_estimators': 1733, 'subsample': 0.8374243951733829, 'colsample_bytree': 0.7558450381174339, 'gamma': 3.5349601674448996, 'min_child_weight': 3, 'reg_alpha': 0.3394811714308028, 'reg_lambda': 0.18284177219137226}. Best is trial 21 with value: 2.6130670049374265.\n",
      "[I 2025-10-05 17:02:02,239] Trial 39 finished with value: 2.577355169253617 and parameters: {'max_depth': 3, 'learning_rate': 0.24123047767812975, 'n_estimators': 1310, 'subsample': 0.6513077113883544, 'colsample_bytree': 0.5805889395131754, 'gamma': 1.1757618472511804, 'min_child_weight': 5, 'reg_alpha': 0.011771466551360868, 'reg_lambda': 0.4174116819268835}. Best is trial 21 with value: 2.6130670049374265.\n",
      "[I 2025-10-05 17:02:08,025] Trial 40 finished with value: 2.603019318787516 and parameters: {'max_depth': 5, 'learning_rate': 0.27922412202177205, 'n_estimators': 1359, 'subsample': 0.7220749902380836, 'colsample_bytree': 0.6758992952387672, 'gamma': 0.32364121048803823, 'min_child_weight': 3, 'reg_alpha': 0.5942335728252384, 'reg_lambda': 0.5463110692843034}. Best is trial 21 with value: 2.6130670049374265.\n",
      "[I 2025-10-05 17:02:13,641] Trial 41 finished with value: 2.5380716204081493 and parameters: {'max_depth': 4, 'learning_rate': 0.05539732363656201, 'n_estimators': 1038, 'subsample': 0.7909253234945367, 'colsample_bytree': 0.5396477553921661, 'gamma': 0.20254075518297834, 'min_child_weight': 6, 'reg_alpha': 0.13063359399843952, 'reg_lambda': 0.34162105373234974}. Best is trial 21 with value: 2.6130670049374265.\n",
      "[I 2025-10-05 17:02:20,385] Trial 42 finished with value: 2.614525167540313 and parameters: {'max_depth': 4, 'learning_rate': 0.25013281122511805, 'n_estimators': 1224, 'subsample': 0.7783263042837808, 'colsample_bytree': 0.5368526500224852, 'gamma': 0.03888054806223792, 'min_child_weight': 4, 'reg_alpha': 0.0647530074239289, 'reg_lambda': 0.2982031684471919}. Best is trial 42 with value: 2.614525167540313.\n",
      "[I 2025-10-05 17:02:25,219] Trial 43 finished with value: 2.599284566050627 and parameters: {'max_depth': 5, 'learning_rate': 0.2508883832792559, 'n_estimators': 1184, 'subsample': 0.8654953270285755, 'colsample_bytree': 0.602686744028953, 'gamma': 0.562963246847858, 'min_child_weight': 4, 'reg_alpha': 0.06774057655014516, 'reg_lambda': 0.2357582401643512}. Best is trial 42 with value: 2.614525167540313.\n",
      "[I 2025-10-05 17:02:32,377] Trial 44 finished with value: 2.614010815068827 and parameters: {'max_depth': 6, 'learning_rate': 0.2737758647422399, 'n_estimators': 1432, 'subsample': 0.8127874679943242, 'colsample_bytree': 0.530358368001404, 'gamma': 0.015745475526251676, 'min_child_weight': 4, 'reg_alpha': 0.6908218392940739, 'reg_lambda': 0.2834768441158237}. Best is trial 42 with value: 2.614525167540313.\n",
      "[I 2025-10-05 17:02:38,150] Trial 45 finished with value: 2.593707037878824 and parameters: {'max_depth': 8, 'learning_rate': 0.2860724383539531, 'n_estimators': 1534, 'subsample': 0.8124989567188251, 'colsample_bytree': 0.5188930843609092, 'gamma': 0.46066136569506666, 'min_child_weight': 4, 'reg_alpha': 0.7410032957514314, 'reg_lambda': 0.160575769823412}. Best is trial 42 with value: 2.614525167540313.\n",
      "[I 2025-10-05 17:02:44,734] Trial 46 finished with value: 2.5639384478365077 and parameters: {'max_depth': 3, 'learning_rate': 0.23297677945481585, 'n_estimators': 1690, 'subsample': 0.7708605151869791, 'colsample_bytree': 0.5332737328780184, 'gamma': 1.0158388889195613, 'min_child_weight': 3, 'reg_alpha': 0.825852013129046, 'reg_lambda': 0.28075368603632567}. Best is trial 42 with value: 2.614525167540313.\n",
      "[I 2025-10-05 17:02:52,350] Trial 47 finished with value: 2.6002294538987765 and parameters: {'max_depth': 4, 'learning_rate': 0.25546388947069226, 'n_estimators': 1935, 'subsample': 0.8521915110908733, 'colsample_bytree': 0.5700240172100188, 'gamma': 0.20206732731024807, 'min_child_weight': 5, 'reg_alpha': 0.6738647838123939, 'reg_lambda': 0.9908564981297631}. Best is trial 42 with value: 2.614525167540313.\n",
      "[I 2025-10-05 17:02:58,144] Trial 48 finished with value: 2.5932764340073784 and parameters: {'max_depth': 7, 'learning_rate': 0.21843782448723717, 'n_estimators': 1482, 'subsample': 0.7862008163539548, 'colsample_bytree': 0.6379267438208776, 'gamma': 0.6951217027038503, 'min_child_weight': 4, 'reg_alpha': 0.4638846703832961, 'reg_lambda': 0.41097635452902637}. Best is trial 42 with value: 2.614525167540313.\n",
      "[I 2025-10-05 17:03:03,119] Trial 49 finished with value: 2.4953732713146435 and parameters: {'max_depth': 6, 'learning_rate': 0.27014401527275017, 'n_estimators': 1257, 'subsample': 0.7060257702537049, 'colsample_bytree': 0.5009066607701237, 'gamma': 4.538628919379351, 'min_child_weight': 5, 'reg_alpha': 0.8761300081661375, 'reg_lambda': 0.21409485126240577}. Best is trial 42 with value: 2.614525167540313.\n",
      "[I 2025-10-05 17:03:07,579] Trial 50 finished with value: 2.602587327956423 and parameters: {'max_depth': 11, 'learning_rate': 0.28747957095577126, 'n_estimators': 907, 'subsample': 0.9030065313833746, 'colsample_bytree': 0.5645180271000791, 'gamma': 0.23309665548792563, 'min_child_weight': 10, 'reg_alpha': 0.9116529189098619, 'reg_lambda': 0.514311930359483}. Best is trial 42 with value: 2.614525167540313.\n",
      "[I 2025-10-05 17:03:15,079] Trial 51 finished with value: 2.6158830472192247 and parameters: {'max_depth': 6, 'learning_rate': 0.27007827773733994, 'n_estimators': 1100, 'subsample': 0.7461989921218835, 'colsample_bytree': 0.602022507903028, 'gamma': 0.006692047257679646, 'min_child_weight': 5, 'reg_alpha': 0.03545806319245548, 'reg_lambda': 0.29959293967749046}. Best is trial 51 with value: 2.6158830472192247.\n",
      "[I 2025-10-05 17:03:20,234] Trial 52 finished with value: 2.601006053676551 and parameters: {'max_depth': 5, 'learning_rate': 0.25094503006168994, 'n_estimators': 1084, 'subsample': 0.7419076399750707, 'colsample_bytree': 0.5891855941052316, 'gamma': 0.44128445416058104, 'min_child_weight': 5, 'reg_alpha': 0.047558314161736635, 'reg_lambda': 0.13331386246997612}. Best is trial 51 with value: 2.6158830472192247.\n",
      "[I 2025-10-05 17:03:25,271] Trial 53 finished with value: 2.6162272671579876 and parameters: {'max_depth': 8, 'learning_rate': 0.2983680189242441, 'n_estimators': 820, 'subsample': 0.8202937136162275, 'colsample_bytree': 0.6478927603611916, 'gamma': 0.056298962666275154, 'min_child_weight': 4, 'reg_alpha': 0.09142856570938832, 'reg_lambda': 0.2824840357731302}. Best is trial 53 with value: 2.6162272671579876.\n",
      "[I 2025-10-05 17:03:29,055] Trial 54 finished with value: 2.6014534592389187 and parameters: {'max_depth': 8, 'learning_rate': 0.2992818860408669, 'n_estimators': 754, 'subsample': 0.8311304852080578, 'colsample_bytree': 0.661558630824, 'gamma': 0.2340903744747431, 'min_child_weight': 2, 'reg_alpha': 0.7933881003304708, 'reg_lambda': 0.3711622024278632}. Best is trial 53 with value: 2.6162272671579876.\n",
      "[I 2025-10-05 17:03:32,940] Trial 55 finished with value: 2.583432701512709 and parameters: {'max_depth': 7, 'learning_rate': 0.2864439271172625, 'n_estimators': 823, 'subsample': 0.8160255834775769, 'colsample_bytree': 0.6230936995686189, 'gamma': 0.8892305724563215, 'min_child_weight': 3, 'reg_alpha': 0.7003126797967246, 'reg_lambda': 0.45822465165590287}. Best is trial 53 with value: 2.6162272671579876.\n",
      "[I 2025-10-05 17:03:37,206] Trial 56 finished with value: 2.587879094563473 and parameters: {'max_depth': 7, 'learning_rate': 0.11215696303289391, 'n_estimators': 663, 'subsample': 0.9627954053029102, 'colsample_bytree': 0.7383512637878133, 'gamma': 0.5045969747082442, 'min_child_weight': 4, 'reg_alpha': 0.5744519322855924, 'reg_lambda': 0.29852562579072817}. Best is trial 53 with value: 2.6162272671579876.\n",
      "[I 2025-10-05 17:03:40,582] Trial 57 finished with value: 2.612219849979121 and parameters: {'max_depth': 9, 'learning_rate': 0.2654230911644997, 'n_estimators': 485, 'subsample': 0.8781838481321976, 'colsample_bytree': 0.7102061657465877, 'gamma': 0.1503086631556598, 'min_child_weight': 3, 'reg_alpha': 0.2333672696034702, 'reg_lambda': 0.7325071808394321}. Best is trial 53 with value: 2.6162272671579876.\n",
      "[I 2025-10-05 17:03:44,596] Trial 58 finished with value: 2.5618664424492534 and parameters: {'max_depth': 8, 'learning_rate': 0.2376116193311059, 'n_estimators': 915, 'subsample': 0.672797456965716, 'colsample_bytree': 0.6430350355131681, 'gamma': 2.2526912859978423, 'min_child_weight': 4, 'reg_alpha': 0.09781716912800315, 'reg_lambda': 0.2631696316449518}. Best is trial 53 with value: 2.6162272671579876.\n",
      "[I 2025-10-05 17:03:46,696] Trial 59 finished with value: 2.6007640364662707 and parameters: {'max_depth': 6, 'learning_rate': 0.2907930176747935, 'n_estimators': 227, 'subsample': 0.7463042822740495, 'colsample_bytree': 0.6716057884587326, 'gamma': 0.38857078932684325, 'min_child_weight': 4, 'reg_alpha': 0.05274131777613067, 'reg_lambda': 0.6208889005809536}. Best is trial 53 with value: 2.6162272671579876.\n",
      "[I 2025-10-05 17:03:50,501] Trial 60 finished with value: 2.5893513427121566 and parameters: {'max_depth': 8, 'learning_rate': 0.25830259417051593, 'n_estimators': 791, 'subsample': 0.9181846454836392, 'colsample_bytree': 0.8251575020838899, 'gamma': 0.7544958589158973, 'min_child_weight': 7, 'reg_alpha': 0.20258653043826824, 'reg_lambda': 0.43473986607497145}. Best is trial 53 with value: 2.6162272671579876.\n",
      "[I 2025-10-05 17:03:53,979] Trial 61 finished with value: 2.6120278853815266 and parameters: {'max_depth': 9, 'learning_rate': 0.27309526511500576, 'n_estimators': 448, 'subsample': 0.8717905831210342, 'colsample_bytree': 0.7610143207383974, 'gamma': 0.12717372175211575, 'min_child_weight': 3, 'reg_alpha': 0.14368366361820648, 'reg_lambda': 0.7274916429707096}. Best is trial 53 with value: 2.6162272671579876.\n",
      "[I 2025-10-05 17:03:58,240] Trial 62 finished with value: 2.6145637394454493 and parameters: {'max_depth': 10, 'learning_rate': 0.26517595786768666, 'n_estimators': 327, 'subsample': 0.8783789170019202, 'colsample_bytree': 0.7047543138420218, 'gamma': 0.006467828133243793, 'min_child_weight': 2, 'reg_alpha': 0.9349221012700717, 'reg_lambda': 0.9235454347881823}. Best is trial 53 with value: 2.6162272671579876.\n",
      "[I 2025-10-05 17:04:01,203] Trial 63 finished with value: 2.611646648348951 and parameters: {'max_depth': 12, 'learning_rate': 0.2602923926594332, 'n_estimators': 121, 'subsample': 0.8500587915758004, 'colsample_bytree': 0.7266262544705958, 'gamma': 0.01568278246620551, 'min_child_weight': 2, 'reg_alpha': 0.9487937034119562, 'reg_lambda': 0.8609582181838171}. Best is trial 53 with value: 2.6162272671579876.\n",
      "[I 2025-10-05 17:04:03,830] Trial 64 finished with value: 2.598722809656806 and parameters: {'max_depth': 11, 'learning_rate': 0.2993837004725752, 'n_estimators': 311, 'subsample': 0.7726343366332585, 'colsample_bytree': 0.6474406462706621, 'gamma': 0.33280743868230656, 'min_child_weight': 2, 'reg_alpha': 0.9031358932202698, 'reg_lambda': 0.5874951845709302}. Best is trial 53 with value: 2.6162272671579876.\n",
      "[I 2025-10-05 17:04:09,227] Trial 65 finished with value: 2.5904201032171197 and parameters: {'max_depth': 10, 'learning_rate': 0.22451647995304055, 'n_estimators': 1093, 'subsample': 0.8993149494015332, 'colsample_bytree': 0.6921104830657528, 'gamma': 0.5903308849171507, 'min_child_weight': 1, 'reg_alpha': 0.9970860577693342, 'reg_lambda': 0.9384449969272944}. Best is trial 53 with value: 2.6162272671579876.\n",
      "[I 2025-10-05 17:04:14,717] Trial 66 finished with value: 2.604889729189692 and parameters: {'max_depth': 10, 'learning_rate': 0.24762689677201424, 'n_estimators': 959, 'subsample': 0.8211333346563112, 'colsample_bytree': 0.6177564752375782, 'gamma': 0.13227133320658058, 'min_child_weight': 9, 'reg_alpha': 0.8352959375484743, 'reg_lambda': 0.3896036489705846}. Best is trial 53 with value: 2.6162272671579876.\n",
      "[I 2025-10-05 17:04:20,856] Trial 67 finished with value: 2.61364357312911 and parameters: {'max_depth': 6, 'learning_rate': 0.28782244004953345, 'n_estimators': 1254, 'subsample': 0.9385483809272784, 'colsample_bytree': 0.9759632729762842, 'gamma': 0.0173988234132535, 'min_child_weight': 1, 'reg_alpha': 0.9350548754126894, 'reg_lambda': 0.32558929167612594}. Best is trial 53 with value: 2.6162272671579876.\n",
      "[I 2025-10-05 17:04:26,186] Trial 68 finished with value: 2.5878748211172997 and parameters: {'max_depth': 6, 'learning_rate': 0.26872617186724596, 'n_estimators': 1253, 'subsample': 0.9748261092728385, 'colsample_bytree': 0.773841723042327, 'gamma': 0.43382844559358963, 'min_child_weight': 1, 'reg_alpha': 0.9429024915604308, 'reg_lambda': 0.3138831075707497}. Best is trial 53 with value: 2.6162272671579876.\n",
      "[I 2025-10-05 17:04:32,984] Trial 69 finished with value: 2.60070115971829 and parameters: {'max_depth': 5, 'learning_rate': 0.19791587732768784, 'n_estimators': 1435, 'subsample': 0.9410050327164876, 'colsample_bytree': 0.940828486291027, 'gamma': 0.24078796530202276, 'min_child_weight': 1, 'reg_alpha': 0.7629119819449609, 'reg_lambda': 0.25085898289889136}. Best is trial 53 with value: 2.6162272671579876.\n",
      "[I 2025-10-05 17:04:40,333] Trial 70 finished with value: 2.62034184538297 and parameters: {'max_depth': 6, 'learning_rate': 0.28487648111531916, 'n_estimators': 1157, 'subsample': 0.797810909683122, 'colsample_bytree': 0.9946513981959453, 'gamma': 0.022330515181480874, 'min_child_weight': 2, 'reg_alpha': 0.08228083481871579, 'reg_lambda': 0.3441995662947319}. Best is trial 70 with value: 2.62034184538297.\n",
      "[I 2025-10-05 17:04:47,453] Trial 71 finished with value: 2.6194137220270735 and parameters: {'max_depth': 6, 'learning_rate': 0.2892857628924505, 'n_estimators': 1141, 'subsample': 0.7773278926769176, 'colsample_bytree': 0.9920821924053518, 'gamma': 0.0345739181812944, 'min_child_weight': 2, 'reg_alpha': 0.0875785978942713, 'reg_lambda': 0.2909370371957134}. Best is trial 70 with value: 2.62034184538297.\n",
      "[I 2025-10-05 17:04:56,339] Trial 72 finished with value: 2.6196871286821772 and parameters: {'max_depth': 6, 'learning_rate': 0.284385685711373, 'n_estimators': 1155, 'subsample': 0.7965765773170096, 'colsample_bytree': 0.995291032033078, 'gamma': 0.007655930744288707, 'min_child_weight': 2, 'reg_alpha': 0.10002480571113716, 'reg_lambda': 0.36753169522703605}. Best is trial 70 with value: 2.62034184538297.\n",
      "[I 2025-10-05 17:05:01,836] Trial 73 finished with value: 2.606345255069667 and parameters: {'max_depth': 7, 'learning_rate': 0.2815637421719874, 'n_estimators': 1141, 'subsample': 0.7984960873594534, 'colsample_bytree': 0.9978795188981405, 'gamma': 0.30289211998536897, 'min_child_weight': 2, 'reg_alpha': 0.10340113304929037, 'reg_lambda': 0.3718486935156344}. Best is trial 70 with value: 2.62034184538297.\n",
      "[I 2025-10-05 17:05:07,740] Trial 74 finished with value: 2.6019344033642016 and parameters: {'max_depth': 6, 'learning_rate': 0.27052083442114006, 'n_estimators': 1211, 'subsample': 0.7830386658931308, 'colsample_bytree': 0.9528554485838643, 'gamma': 0.5786212384014953, 'min_child_weight': 2, 'reg_alpha': 0.08347434061338654, 'reg_lambda': 0.28786604010858236}. Best is trial 70 with value: 2.62034184538297.\n",
      "[I 2025-10-05 17:05:13,543] Trial 75 finished with value: 2.6109229591458636 and parameters: {'max_depth': 5, 'learning_rate': 0.29140228116578665, 'n_estimators': 1065, 'subsample': 0.8054243265185991, 'colsample_bytree': 0.9122283475906177, 'gamma': 0.15719164052296017, 'min_child_weight': 2, 'reg_alpha': 0.03584498355908378, 'reg_lambda': 0.3477280715105299}. Best is trial 70 with value: 2.62034184538297.\n",
      "[I 2025-10-05 17:05:19,184] Trial 76 finished with value: 2.532605367533729 and parameters: {'max_depth': 7, 'learning_rate': 0.25689910724778625, 'n_estimators': 1368, 'subsample': 0.7161924556665897, 'colsample_bytree': 0.9808334092137605, 'gamma': 3.626632156128607, 'min_child_weight': 3, 'reg_alpha': 0.21098515198936169, 'reg_lambda': 0.19997011135937245}. Best is trial 70 with value: 2.62034184538297.\n",
      "[I 2025-10-05 17:05:27,358] Trial 77 finished with value: 2.6092124130400878 and parameters: {'max_depth': 6, 'learning_rate': 0.06879001735019899, 'n_estimators': 1151, 'subsample': 0.7646078867795258, 'colsample_bytree': 0.891670472478141, 'gamma': 0.40538379708550176, 'min_child_weight': 3, 'reg_alpha': 0.07841557188563816, 'reg_lambda': 0.2409915672203826}. Best is trial 70 with value: 2.62034184538297.\n",
      "[I 2025-10-05 17:05:39,433] Trial 78 finished with value: 2.472044834013502 and parameters: {'max_depth': 5, 'learning_rate': 0.012346793017507157, 'n_estimators': 1436, 'subsample': 0.7364488374300726, 'colsample_bytree': 0.9565451232702487, 'gamma': 0.7630544491294162, 'min_child_weight': 2, 'reg_alpha': 0.14131281558287095, 'reg_lambda': 0.4901725456019168}. Best is trial 70 with value: 2.62034184538297.\n",
      "[I 2025-10-05 17:05:48,788] Trial 79 finished with value: 2.622995450535563 and parameters: {'max_depth': 6, 'learning_rate': 0.279983835150707, 'n_estimators': 1315, 'subsample': 0.7794967138700148, 'colsample_bytree': 0.9794826913431905, 'gamma': 0.007889395663014954, 'min_child_weight': 1, 'reg_alpha': 0.038707025810982884, 'reg_lambda': 0.28932996920615206}. Best is trial 79 with value: 2.622995450535563.\n",
      "[I 2025-10-05 17:05:54,626] Trial 80 finished with value: 2.6105257175325756 and parameters: {'max_depth': 7, 'learning_rate': 0.29412818306128724, 'n_estimators': 1195, 'subsample': 0.7787521311224979, 'colsample_bytree': 0.9771474445669984, 'gamma': 0.26418696787871093, 'min_child_weight': 1, 'reg_alpha': 0.12329535225597789, 'reg_lambda': 0.36891961189052036}. Best is trial 79 with value: 2.622995450535563.\n",
      "[I 2025-10-05 17:06:01,517] Trial 81 finished with value: 2.6182554164654674 and parameters: {'max_depth': 6, 'learning_rate': 0.2819722556275317, 'n_estimators': 1329, 'subsample': 0.8266421886101889, 'colsample_bytree': 0.9921213401557343, 'gamma': 0.11699947832395942, 'min_child_weight': 2, 'reg_alpha': 0.0306634752354844, 'reg_lambda': 0.28507015483021325}. Best is trial 79 with value: 2.622995450535563.\n",
      "[I 2025-10-05 17:06:08,430] Trial 82 finished with value: 2.612382752967723 and parameters: {'max_depth': 6, 'learning_rate': 0.28245558718318226, 'n_estimators': 1330, 'subsample': 0.8299571211889128, 'colsample_bytree': 0.9992059894809963, 'gamma': 0.11180919718358548, 'min_child_weight': 2, 'reg_alpha': 0.03525006484060031, 'reg_lambda': 0.32560246633424467}. Best is trial 79 with value: 2.622995450535563.\n",
      "[I 2025-10-05 17:06:14,797] Trial 83 finished with value: 2.6120820435976597 and parameters: {'max_depth': 5, 'learning_rate': 0.2999627169206578, 'n_estimators': 1293, 'subsample': 0.8467861733665606, 'colsample_bytree': 0.9589645148863088, 'gamma': 0.15158573035886025, 'min_child_weight': 1, 'reg_alpha': 0.030105301297001914, 'reg_lambda': 0.4296795027219521}. Best is trial 79 with value: 2.622995450535563.\n",
      "[I 2025-10-05 17:06:20,446] Trial 84 finished with value: 2.6064611072948827 and parameters: {'max_depth': 12, 'learning_rate': 0.26364583385164797, 'n_estimators': 1129, 'subsample': 0.7577455406900042, 'colsample_bytree': 0.9673187781605347, 'gamma': 0.30398557821913086, 'min_child_weight': 2, 'reg_alpha': 0.08839702709362027, 'reg_lambda': 0.6592771433191144}. Best is trial 79 with value: 2.622995450535563.\n",
      "[I 2025-10-05 17:06:25,251] Trial 85 finished with value: 2.601373253308052 and parameters: {'max_depth': 6, 'learning_rate': 0.27844933289901513, 'n_estimators': 1013, 'subsample': 0.8032841582658669, 'colsample_bytree': 0.9441322217746233, 'gamma': 0.44655567063076473, 'min_child_weight': 1, 'reg_alpha': 0.16822861435501663, 'reg_lambda': 0.3953378272181595}. Best is trial 79 with value: 2.622995450535563.\n",
      "[I 2025-10-05 17:06:33,239] Trial 86 finished with value: 2.6213166087387845 and parameters: {'max_depth': 7, 'learning_rate': 0.2733954959501916, 'n_estimators': 1184, 'subsample': 0.8837623077486703, 'colsample_bytree': 0.9238077198428541, 'gamma': 0.00782747860210935, 'min_child_weight': 2, 'reg_alpha': 0.07407789442222376, 'reg_lambda': 0.167633703283359}. Best is trial 79 with value: 2.622995450535563.\n",
      "[I 2025-10-05 17:06:38,558] Trial 87 finished with value: 2.5972093413028903 and parameters: {'max_depth': 7, 'learning_rate': 0.29361383497326515, 'n_estimators': 1175, 'subsample': 0.8840036470592806, 'colsample_bytree': 0.9231380274645594, 'gamma': 0.5880756378113254, 'min_child_weight': 2, 'reg_alpha': 0.1086307261696494, 'reg_lambda': 0.0605342014788775}. Best is trial 79 with value: 2.622995450535563.\n",
      "[I 2025-10-05 17:06:43,616] Trial 88 finished with value: 2.515472324941233 and parameters: {'max_depth': 6, 'learning_rate': 0.2839313402922353, 'n_estimators': 1290, 'subsample': 0.8426700125112495, 'colsample_bytree': 0.9857585203367631, 'gamma': 3.956836748154072, 'min_child_weight': 2, 'reg_alpha': 0.1465975792844539, 'reg_lambda': 0.179516378135769}. Best is trial 79 with value: 2.622995450535563.\n",
      "[I 2025-10-05 17:06:48,918] Trial 89 finished with value: 2.6134374968825167 and parameters: {'max_depth': 7, 'learning_rate': 0.2752492190153102, 'n_estimators': 1098, 'subsample': 0.8590696989037272, 'colsample_bytree': 0.9909469041107856, 'gamma': 0.1773076676640426, 'min_child_weight': 1, 'reg_alpha': 0.061584650432609744, 'reg_lambda': 0.1464503738135401}. Best is trial 79 with value: 2.622995450535563.\n",
      "[I 2025-10-05 17:06:53,140] Trial 90 finished with value: 2.5331186830574945 and parameters: {'max_depth': 6, 'learning_rate': 0.2675505166498321, 'n_estimators': 1054, 'subsample': 0.8892085947785322, 'colsample_bytree': 0.8944236484766539, 'gamma': 2.973553823121799, 'min_child_weight': 3, 'reg_alpha': 0.027593403178333007, 'reg_lambda': 0.22405600960761207}. Best is trial 79 with value: 2.622995450535563.\n",
      "[I 2025-10-05 17:07:00,845] Trial 91 finished with value: 2.6168269416302956 and parameters: {'max_depth': 5, 'learning_rate': 0.24393987218695673, 'n_estimators': 1265, 'subsample': 0.7842700617534333, 'colsample_bytree': 0.9688241006723909, 'gamma': 0.04120999358984076, 'min_child_weight': 2, 'reg_alpha': 0.0660486123788335, 'reg_lambda': 0.29674369617128477}. Best is trial 79 with value: 2.622995450535563.\n",
      "[I 2025-10-05 17:07:10,205] Trial 92 finished with value: 2.619279398853523 and parameters: {'max_depth': 5, 'learning_rate': 0.2554151155631386, 'n_estimators': 1351, 'subsample': 0.8220863033455673, 'colsample_bytree': 0.9727778371300771, 'gamma': 0.013003281743116065, 'min_child_weight': 2, 'reg_alpha': 0.0036861715370941905, 'reg_lambda': 0.2553971977296854}. Best is trial 79 with value: 2.622995450535563.\n",
      "[I 2025-10-05 17:07:16,842] Trial 93 finished with value: 2.6110009862580155 and parameters: {'max_depth': 5, 'learning_rate': 0.24240757426045784, 'n_estimators': 1385, 'subsample': 0.796249443571295, 'colsample_bytree': 0.9685165619476976, 'gamma': 0.28968859558982685, 'min_child_weight': 2, 'reg_alpha': 0.0018511503746615893, 'reg_lambda': 0.10839809871812764}. Best is trial 79 with value: 2.622995450535563.\n",
      "[I 2025-10-05 17:07:22,086] Trial 94 finished with value: 2.5440244960768115 and parameters: {'max_depth': 5, 'learning_rate': 0.28581704853582307, 'n_estimators': 1334, 'subsample': 0.8291900971038405, 'colsample_bytree': 0.92990992738089, 'gamma': 2.655199492594821, 'min_child_weight': 1, 'reg_alpha': 0.08156337185673228, 'reg_lambda': 0.20584339268194726}. Best is trial 79 with value: 2.622995450535563.\n",
      "[I 2025-10-05 17:07:28,766] Trial 95 finished with value: 2.614357879189126 and parameters: {'max_depth': 6, 'learning_rate': 0.2560868175229119, 'n_estimators': 1269, 'subsample': 0.7494085402949067, 'colsample_bytree': 0.9631811169060233, 'gamma': 0.10369933785828223, 'min_child_weight': 3, 'reg_alpha': 0.12191473491229403, 'reg_lambda': 0.2654758826791331}. Best is trial 79 with value: 2.622995450535563.\n",
      "[I 2025-10-05 17:07:34,520] Trial 96 finished with value: 2.530168332923148 and parameters: {'max_depth': 5, 'learning_rate': 0.27716380243623323, 'n_estimators': 1493, 'subsample': 0.8139310750608792, 'colsample_bytree': 0.947350550024483, 'gamma': 3.3365941482917085, 'min_child_weight': 2, 'reg_alpha': 0.051194369087452854, 'reg_lambda': 0.33532012049766163}. Best is trial 79 with value: 2.622995450535563.\n",
      "[I 2025-10-05 17:07:41,482] Trial 97 finished with value: 2.606454328974702 and parameters: {'max_depth': 7, 'learning_rate': 0.2736226115256861, 'n_estimators': 1605, 'subsample': 0.7637370513097519, 'colsample_bytree': 0.9893651159033451, 'gamma': 0.485663759560413, 'min_child_weight': 1, 'reg_alpha': 0.025180496452311064, 'reg_lambda': 0.24358497504021612}. Best is trial 79 with value: 2.622995450535563.\n",
      "[I 2025-10-05 17:07:47,091] Trial 98 finished with value: 2.609049965674206 and parameters: {'max_depth': 6, 'learning_rate': 0.29091957553217673, 'n_estimators': 1220, 'subsample': 0.8191564936359222, 'colsample_bytree': 0.9744279515221881, 'gamma': 0.22173374744574417, 'min_child_weight': 2, 'reg_alpha': 0.09844031282138747, 'reg_lambda': 0.301938590903626}. Best is trial 79 with value: 2.622995450535563.\n",
      "[I 2025-10-05 17:07:52,020] Trial 99 finished with value: 2.6076569438461967 and parameters: {'max_depth': 8, 'learning_rate': 0.2816651542484363, 'n_estimators': 983, 'subsample': 0.7301784557282633, 'colsample_bytree': 0.931198141835534, 'gamma': 0.38273989726576896, 'min_child_weight': 3, 'reg_alpha': 0.04871041688631454, 'reg_lambda': 0.2804065969027496}. Best is trial 79 with value: 2.622995450535563.\n",
      "2025-10-05 17:07:52 [INFO] src.Model_Tuner: Best Score: 2.6230\n",
      "2025-10-05 17:07:52 [INFO] src.Model_Tuner: Best Params: {'max_depth': 6, 'learning_rate': 0.279983835150707, 'n_estimators': 1315, 'subsample': 0.7794967138700148, 'colsample_bytree': 0.9794826913431905, 'gamma': 0.007889395663014954, 'min_child_weight': 1, 'reg_alpha': 0.038707025810982884, 'reg_lambda': 0.28932996920615206}\n",
      "✅ Best Params Found by Optuna:\n",
      "{'max_depth': 6, 'learning_rate': 0.279983835150707, 'n_estimators': 1315, 'subsample': 0.7794967138700148, 'colsample_bytree': 0.9794826913431905, 'gamma': 0.007889395663014954, 'min_child_weight': 1, 'reg_alpha': 0.038707025810982884, 'reg_lambda': 0.28932996920615206}\n",
      "Mean CV Score during tuning: 2.6230\n",
      "\n",
      "📊 Validation Results\n",
      "Confusion Matrix:\n",
      " [[11676    32]\n",
      " [   94 12319]]\n",
      "Accuracy: 0.9948\n"
     ]
    }
   ],
   "source": [
    "import os\n",
    "import yaml\n",
    "from xgboost import XGBClassifier\n",
    "from src.Model_Tuner import OptunaTuning\n",
    "\n",
    "# Absolute path to YAML file\n",
    "yaml_file_path = r\"C:\\Users\\laaro\\OneDrive\\桌面\\Cost_Minimasation_ML\\config\\xgbclassifier.yaml\"\n",
    "\n",
    "# Load YAML manually (optional, just to check contents)\n",
    "with open(yaml_file_path, \"r\", encoding=\"utf-8\") as f:\n",
    "    param_grid = yaml.safe_load(f)\n",
    "print(\"✅ YAML loaded successfully\")\n",
    "print(param_grid)\n",
    "\n",
    "# Initialize tuner — pass the **folder**, not the YAML file\n",
    "config_dir = r\"C:\\Users\\laaro\\OneDrive\\桌面\\Cost_Minimasation_ML\\config\"\n",
    "\n",
    "tuner = OptunaTuning(\n",
    "    config_dir=config_dir,\n",
    "    n_trials=100,\n",
    "    cv_folds=5\n",
    ")\n",
    "\n",
    "# Tune model using training data\n",
    "best_model, best_params, best_score = tuner.tune(\n",
    "    model_name=\"xgbclassifier\",\n",
    "    model_class=XGBClassifier,\n",
    "    X=X_train,\n",
    "    y=y_train\n",
    ")\n",
    "\n",
    "print(\"✅ Best Params Found by Optuna:\")\n",
    "print(best_params)\n",
    "print(f\"Mean CV Score during tuning: {best_score:.4f}\")\n",
    "\n",
    "# Validate on validation set\n",
    "y_val_pred = best_model.predict(X_val)\n",
    "\n",
    "from sklearn.metrics import confusion_matrix, accuracy_score\n",
    "cm = confusion_matrix(y_val, y_val_pred)\n",
    "acc = accuracy_score(y_val, y_val_pred)\n",
    "\n",
    "print(\"\\n📊 Validation Results\")\n",
    "print(\"Confusion Matrix:\\n\", cm)\n",
    "print(f\"Accuracy: {acc:.4f}\")\n"
   ]
  },
  {
   "cell_type": "code",
   "execution_count": 17,
   "id": "1f9a7adc",
   "metadata": {},
   "outputs": [
    {
     "name": "stdout",
     "output_type": "stream",
     "text": [
      "2025-10-05 18:38:43 [INFO] src.Model_Tuner: Tuned model 'xgbclassifier' saved to: models/tuned\\xgbclassifier_optuna_tuned.pkl\n"
     ]
    },
    {
     "data": {
      "text/plain": [
       "'models/tuned\\\\xgbclassifier_optuna_tuned.pkl'"
      ]
     },
     "execution_count": 17,
     "metadata": {},
     "output_type": "execute_result"
    }
   ],
   "source": [
    "# Save tuned model\n",
    "tuner.save_tuned_model(\"xgbclassifier\", best_model)"
   ]
  },
  {
   "cell_type": "code",
   "execution_count": 18,
   "id": "031cf721",
   "metadata": {},
   "outputs": [
    {
     "data": {
      "text/plain": [
       "'c:\\\\Users\\\\laaro\\\\OneDrive\\\\桌面\\\\Cost_Minimasation_ML\\\\notebooks'"
      ]
     },
     "execution_count": 18,
     "metadata": {},
     "output_type": "execute_result"
    }
   ],
   "source": [
    "os.getcwd()"
   ]
  },
  {
   "cell_type": "code",
   "execution_count": 19,
   "id": "4ad34e7f",
   "metadata": {},
   "outputs": [],
   "source": [
    "from src.Model_Loader import ModelLoader"
   ]
  },
  {
   "cell_type": "code",
   "execution_count": 27,
   "id": "79c58e83",
   "metadata": {},
   "outputs": [
    {
     "name": "stdout",
     "output_type": "stream",
     "text": [
      "2025-10-05 18:47:28 [INFO] src.Model_Loader: Model loaded successfully from C:\\Users\\laaro\\OneDrive\\桌面\\Cost_Minimasation_ML\\notebooks\\models\\tuned\\xgbclassifier_optuna_tuned.pkl\n"
     ]
    }
   ],
   "source": [
    "model = ModelLoader.load_model(r\"C:\\Users\\laaro\\OneDrive\\桌面\\Cost_Minimasation_ML\\notebooks\\models\\tuned\\xgbclassifier_optuna_tuned.pkl\")"
   ]
  },
  {
   "cell_type": "code",
   "execution_count": 28,
   "id": "649bdfca",
   "metadata": {},
   "outputs": [
    {
     "name": "stdout",
     "output_type": "stream",
     "text": [
      "2025-10-05 18:47:28 [INFO] src.Ingest_Data: Fetching data from API endpoint: http://127.0.0.1:8000/test\n",
      "2025-10-05 18:47:29 [INFO] src.Ingest_Data: Received 10000 records from API\n"
     ]
    }
   ],
   "source": [
    "df_test = DataIngestorFactory.get_data_ingestor(TEST_ENDPOINT).ingest(TEST_ENDPOINT)"
   ]
  },
  {
   "cell_type": "code",
   "execution_count": 31,
   "id": "0781382d",
   "metadata": {},
   "outputs": [
    {
     "name": "stdout",
     "output_type": "stream",
     "text": [
      "2025-10-05 18:47:59 [INFO] src.Model_Loader: Model loaded successfully from C:\\Users\\laaro\\OneDrive\\桌面\\Cost_Minimasation_ML\\notebooks\\models\\tuned\\xgbclassifier_optuna_tuned.pkl\n"
     ]
    }
   ],
   "source": [
    "loader = ModelLoader()\n",
    "model = loader.load_model(r\"C:\\Users\\laaro\\OneDrive\\桌面\\Cost_Minimasation_ML\\notebooks\\models\\tuned\\xgbclassifier_optuna_tuned.pkl\")"
   ]
  },
  {
   "cell_type": "code",
   "execution_count": 33,
   "id": "77176130",
   "metadata": {},
   "outputs": [],
   "source": [
    "df_test_X = df_test.drop('Target',axis = 1)"
   ]
  },
  {
   "cell_type": "code",
   "execution_count": 34,
   "id": "ea09e882",
   "metadata": {},
   "outputs": [
    {
     "name": "stdout",
     "output_type": "stream",
     "text": [
      "2025-10-05 18:48:41 [INFO] src.Model_Loader: Predictions made on input of shape (10000, 40)\n"
     ]
    }
   ],
   "source": [
    "y_pred = loader.predict(model, df_test_X)"
   ]
  },
  {
   "cell_type": "code",
   "execution_count": null,
   "id": "8a00c879",
   "metadata": {},
   "outputs": [],
   "source": []
  }
 ],
 "metadata": {
  "kernelspec": {
   "display_name": "Cost_Minimasation_ML",
   "language": "python",
   "name": "python3"
  },
  "language_info": {
   "codemirror_mode": {
    "name": "ipython",
    "version": 3
   },
   "file_extension": ".py",
   "mimetype": "text/x-python",
   "name": "python",
   "nbconvert_exporter": "python",
   "pygments_lexer": "ipython3",
   "version": "3.12.10"
  }
 },
 "nbformat": 4,
 "nbformat_minor": 5
}
