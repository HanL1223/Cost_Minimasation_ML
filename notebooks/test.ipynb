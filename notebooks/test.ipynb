{
 "cells": [
  {
   "cell_type": "code",
   "execution_count": 1,
   "id": "0b2f170f",
   "metadata": {},
   "outputs": [],
   "source": [
    "#Overarching importation\n",
    "import sys, os\n",
    "PROJECT_ROOT = os.path.abspath(\"..\")  # go up one directory from notebooks/\n",
    "if PROJECT_ROOT not in sys.path:\n",
    "    sys.path.insert(0, PROJECT_ROOT)"
   ]
  },
  {
   "cell_type": "code",
   "execution_count": 2,
   "id": "ff9328fa",
   "metadata": {},
   "outputs": [],
   "source": [
    "from src.Ingest_Data import DataIngestorFactory\n",
    "from src.Missing_value_handling import MissingValueHandler,FillMissingValue,DropMissingValue\n",
    "\n",
    "#-------#\n",
    "# To help with reading and manipulating data\n",
    "import pandas as pd\n",
    "import numpy as np\n",
    "\n",
    "# To help with data visualization\n",
    "%matplotlib inline\n",
    "import matplotlib.pyplot as plt\n",
    "import seaborn as sns\n",
    "\n",
    "# To be used for missing value imputation\n",
    "from sklearn.impute import SimpleImputer\n",
    "\n",
    "# To help with model building\n",
    "from sklearn.linear_model import LogisticRegression\n",
    "from sklearn.tree import DecisionTreeClassifier\n",
    "from sklearn.ensemble import (\n",
    "    AdaBoostClassifier,\n",
    "    GradientBoostingClassifier,\n",
    "    RandomForestClassifier,\n",
    "    BaggingClassifier,\n",
    ")\n",
    "from xgboost import XGBClassifier\n",
    "\n",
    "# To get different metric scores, and split data\n",
    "from sklearn import metrics\n",
    "#---#\n",
    "from sklearn.model_selection import train_test_split, StratifiedKFold, cross_val_score\n",
    "from sklearn.metrics import (\n",
    "    f1_score,\n",
    "    accuracy_score,\n",
    "    recall_score,\n",
    "    precision_score,\n",
    "    confusion_matrix,\n",
    "    roc_auc_score\n",
    ")\n",
    "\n",
    "# To oversample and undersample data\n",
    "from imblearn.over_sampling import SMOTE\n",
    "from imblearn.under_sampling import RandomUnderSampler\n",
    "\n",
    "# To be used for data scaling and one hot encoding\n",
    "from sklearn.preprocessing import StandardScaler, MinMaxScaler, OneHotEncoder\n",
    "\n",
    "# To be used for tuning the model\n",
    "from sklearn.model_selection import GridSearchCV, RandomizedSearchCV\n",
    "\n",
    "# To use statistical functions\n",
    "import scipy.stats as stats\n",
    "\n",
    "# To be used for creating pipelines and personalizing them\n",
    "from sklearn.pipeline import Pipeline\n",
    "from sklearn.compose import ColumnTransformer\n",
    "\n",
    "# To define maximum number of columns to be displayed in a dataframe\n",
    "pd.set_option(\"display.max_columns\", None)\n",
    "\n",
    "# To supress scientific notations for a dataframe\n",
    "pd.set_option(\"display.float_format\", lambda x: \"%.3f\" % x)\n",
    "\n",
    "# To supress warnings\n",
    "import warnings\n",
    "\n",
    "warnings.filterwarnings(\"ignore\")"
   ]
  },
  {
   "cell_type": "code",
   "execution_count": 3,
   "id": "6e764bad",
   "metadata": {},
   "outputs": [],
   "source": [
    "#Load Data\n",
    "BASE_URL = \"http://127.0.0.1:8000\"\n",
    "TRAIN_ENDPOINT = f\"{BASE_URL}/train\"\n",
    "TEST_ENDPOINT = f\"{BASE_URL}/test\""
   ]
  },
  {
   "cell_type": "code",
   "execution_count": 4,
   "id": "c08bae3e",
   "metadata": {},
   "outputs": [
    {
     "name": "stdout",
     "output_type": "stream",
     "text": [
      "2025-10-04 18:45:30 [INFO] src.Ingest_Data: Fetching data from API endpoint: http://127.0.0.1:8000/train\n",
      "2025-10-04 18:45:32 [INFO] src.Ingest_Data: Received 40000 records from API\n"
     ]
    }
   ],
   "source": [
    "df_train = DataIngestorFactory.get_data_ingestor(TRAIN_ENDPOINT).ingest(TRAIN_ENDPOINT)"
   ]
  },
  {
   "cell_type": "code",
   "execution_count": 5,
   "id": "db641607",
   "metadata": {},
   "outputs": [
    {
     "data": {
      "text/plain": [
       "0       0.000\n",
       "1       0.000\n",
       "2       0.000\n",
       "3       0.000\n",
       "4       0.000\n",
       "         ... \n",
       "39995   0.000\n",
       "39996   0.000\n",
       "39997   0.000\n",
       "39998   0.000\n",
       "39999   0.000\n",
       "Name: Target, Length: 40000, dtype: float64"
      ]
     },
     "execution_count": 5,
     "metadata": {},
     "output_type": "execute_result"
    }
   ],
   "source": [
    "df_train['Target']"
   ]
  },
  {
   "cell_type": "code",
   "execution_count": 6,
   "id": "ba6c0440",
   "metadata": {},
   "outputs": [
    {
     "data": {
      "text/plain": [
       "<Axes: ylabel='Target'>"
      ]
     },
     "execution_count": 6,
     "metadata": {},
     "output_type": "execute_result"
    },
    {
     "data": {
      "image/png": "[encoded data removed]",
      "text/plain": [
       "<Figure size 640x480 with 1 Axes>"
      ]
     },
     "metadata": {},
     "output_type": "display_data"
    }
   ],
   "source": [
    "df_train[\"Target\"].value_counts().plot(kind ='barh')"
   ]
  },
  {
   "cell_type": "code",
   "execution_count": 7,
   "id": "3ee272f3",
   "metadata": {},
   "outputs": [],
   "source": [
    "import src.scaler as scaler"
   ]
  },
  {
   "cell_type": "code",
   "execution_count": 8,
   "id": "4dde4d04",
   "metadata": {},
   "outputs": [
    {
     "name": "stdout",
     "output_type": "stream",
     "text": [
      "2025-10-04 18:45:33 [INFO] src.scaler: Applying SMOTEENN hybrid resampling. Input size: (40000, 41)\n",
      "2025-10-04 18:45:37 [INFO] src.scaler: SMOTEENN complete. Output size: (73091, 41)\n"
     ]
    }
   ],
   "source": [
    "df_scaled = scaler.SMOTEENNSampler().impute(df_train,target_col='Target')"
   ]
  },
  {
   "cell_type": "code",
   "execution_count": 9,
   "id": "7f7d4f82",
   "metadata": {},
   "outputs": [
    {
     "data": {
      "text/plain": [
       "Target\n",
       "1.000    37613\n",
       "0.000    35478\n",
       "Name: count, dtype: int64"
      ]
     },
     "execution_count": 9,
     "metadata": {},
     "output_type": "execute_result"
    },
    {
     "data": {
      "image/png": "[encoded data removed]",
      "text/plain": [
       "<Figure size 640x480 with 1 Axes>"
      ]
     },
     "metadata": {},
     "output_type": "display_data"
    }
   ],
   "source": [
    "df_scaled[\"Target\"].value_counts().plot(kind ='barh')\n",
    "df_scaled['Target'].value_counts()"
   ]
  },
  {
   "cell_type": "code",
   "execution_count": 10,
   "id": "f156d63d",
   "metadata": {},
   "outputs": [],
   "source": [
    "#Model Selection\n",
    "models = []  # Empty list to store all the models\n",
    "\n",
    "# Appending models into the list\n",
    "models.append((\"Logistic Regression\", LogisticRegression(solver=\"newton-cg\", random_state=1)))\n",
    "models.append((\"Decision Tree\", DecisionTreeClassifier(random_state=1)))\n",
    "models.append((\"XGBoost\", XGBClassifier(random_state=1, eval_metric=\"logloss\", device='cpu')))"
   ]
  },
  {
   "cell_type": "code",
   "execution_count": 11,
   "id": "143f193d",
   "metadata": {},
   "outputs": [],
   "source": [
    "from src.Model_Selector import CrossValidationEvaluation,ModelEvaluator"
   ]
  },
  {
   "cell_type": "code",
   "execution_count": 12,
   "id": "ce169190",
   "metadata": {},
   "outputs": [],
   "source": [
    "strategy = CrossValidationEvaluation()\n",
    "evaluator = ModelEvaluator(strategy)\n"
   ]
  },
  {
   "cell_type": "code",
   "execution_count": 13,
   "id": "afacf419",
   "metadata": {},
   "outputs": [
    {
     "name": "stdout",
     "output_type": "stream",
     "text": [
      "2025-10-04 18:45:37 [INFO] src.Model_Selector: Evaluating models with maintenance cost optimization\n",
      "2025-10-04 18:45:37 [INFO] src.Model_Selector: Starting CV evaluation with maintenance cost scoring\n"
     ]
    },
    {
     "ename": "TypeError",
     "evalue": "StratifiedKFold.__init__() got an unexpected keyword argument 'n_split'",
     "output_type": "error",
     "traceback": [
      "\u001b[31m---------------------------------------------------------------------------\u001b[39m",
      "\u001b[31mTypeError\u001b[39m                                 Traceback (most recent call last)",
      "\u001b[36mCell\u001b[39m\u001b[36m \u001b[39m\u001b[32mIn[13]\u001b[39m\u001b[32m, line 2\u001b[39m\n\u001b[32m      1\u001b[39m \u001b[38;5;66;03m# Evaluate models\u001b[39;00m\n\u001b[32m----> \u001b[39m\u001b[32m2\u001b[39m results = \u001b[43mevaluator\u001b[49m\u001b[43m.\u001b[49m\u001b[43mevaluate_models\u001b[49m\u001b[43m(\u001b[49m\u001b[43mmodels\u001b[49m\u001b[43m,\u001b[49m\u001b[43m \u001b[49m\u001b[43mdf_scaled\u001b[49m\u001b[43m.\u001b[49m\u001b[43mdrop\u001b[49m\u001b[43m(\u001b[49m\u001b[33;43m'\u001b[39;49m\u001b[33;43mTarget\u001b[39;49m\u001b[33;43m'\u001b[39;49m\u001b[43m,\u001b[49m\u001b[43maxis\u001b[49m\u001b[43m \u001b[49m\u001b[43m=\u001b[49m\u001b[43m \u001b[49m\u001b[32;43m1\u001b[39;49m\u001b[43m)\u001b[49m\u001b[43m,\u001b[49m\u001b[43m \u001b[49m\u001b[43mdf_scaled\u001b[49m\u001b[43m[\u001b[49m\u001b[33;43m'\u001b[39;49m\u001b[33;43mTarget\u001b[39;49m\u001b[33;43m'\u001b[39;49m\u001b[43m]\u001b[49m\u001b[43m)\u001b[49m\n\u001b[32m      4\u001b[39m \u001b[38;5;66;03m# # Get the best model\u001b[39;00m\n\u001b[32m      5\u001b[39m \u001b[38;5;66;03m# best_model_name, best_model = evaluator.get_best_model(models)\u001b[39;00m\n\u001b[32m      6\u001b[39m \n\u001b[32m      7\u001b[39m \u001b[38;5;66;03m# # Save the best model (correct static method call)\u001b[39;00m\n\u001b[32m      8\u001b[39m \u001b[38;5;66;03m# model_path = ModelEvaluator.save_best_model(best_model_name, best_model)\u001b[39;00m\n",
      "\u001b[36mFile \u001b[39m\u001b[32m~/cost_ml_202509/Cost_Minimasation_ML/src/Model_Selector.py:121\u001b[39m, in \u001b[36mModelEvaluator.evaluate_models\u001b[39m\u001b[34m(self, models, X, y)\u001b[39m\n\u001b[32m    119\u001b[39m \u001b[38;5;250m\u001b[39m\u001b[33;03m\"\"\"Evaluate models using the current strategy\"\"\"\u001b[39;00m\n\u001b[32m    120\u001b[39m logger.info(\u001b[33m\"\u001b[39m\u001b[33mEvaluating models with maintenance cost optimization\u001b[39m\u001b[33m\"\u001b[39m)\n\u001b[32m--> \u001b[39m\u001b[32m121\u001b[39m \u001b[38;5;28mself\u001b[39m._last_results = \u001b[38;5;28;43mself\u001b[39;49m\u001b[43m.\u001b[49m\u001b[43m_strategy\u001b[49m\u001b[43m.\u001b[49m\u001b[43mevaluate\u001b[49m\u001b[43m(\u001b[49m\u001b[43mmodels\u001b[49m\u001b[43m,\u001b[49m\u001b[43m \u001b[49m\u001b[43mX\u001b[49m\u001b[43m,\u001b[49m\u001b[43m \u001b[49m\u001b[43my\u001b[49m\u001b[43m)\u001b[49m\n\u001b[32m    122\u001b[39m \u001b[38;5;28;01mreturn\u001b[39;00m \u001b[38;5;28mself\u001b[39m._last_results\n",
      "\u001b[36mFile \u001b[39m\u001b[32m~/cost_ml_202509/Cost_Minimasation_ML/src/Model_Selector.py:87\u001b[39m, in \u001b[36mCrossValidationEvaluation.evaluate\u001b[39m\u001b[34m(self, models, X, y)\u001b[39m\n\u001b[32m     85\u001b[39m logger.info(\u001b[33m\"\u001b[39m\u001b[33mStarting CV evaluation with maintenance cost scoring\u001b[39m\u001b[33m\"\u001b[39m)\n\u001b[32m     86\u001b[39m results = {}\n\u001b[32m---> \u001b[39m\u001b[32m87\u001b[39m kfold = \u001b[43mStratifiedKFold\u001b[49m\u001b[43m(\u001b[49m\u001b[43mn_split\u001b[49m\u001b[43m=\u001b[49m\u001b[38;5;28;43mself\u001b[39;49m\u001b[43m.\u001b[49m\u001b[43mn_split\u001b[49m\u001b[43m,\u001b[49m\u001b[43mshuffle\u001b[49m\u001b[43m=\u001b[49m\u001b[38;5;28;43;01mTrue\u001b[39;49;00m\u001b[43m,\u001b[49m\u001b[43mrandom_state\u001b[49m\u001b[43m=\u001b[49m\u001b[38;5;28;43mself\u001b[39;49m\u001b[43m.\u001b[49m\u001b[43mrandom_state\u001b[49m\u001b[43m)\u001b[49m\n\u001b[32m     88\u001b[39m \u001b[38;5;28;01mfor\u001b[39;00m name,model \u001b[38;5;129;01min\u001b[39;00m models:\n\u001b[32m     89\u001b[39m     \u001b[38;5;28;01mtry\u001b[39;00m:\n",
      "\u001b[31mTypeError\u001b[39m: StratifiedKFold.__init__() got an unexpected keyword argument 'n_split'"
     ]
    }
   ],
   "source": [
    "# Evaluate models\n",
    "results = evaluator.evaluate_models(models, df_scaled.drop('Target',axis = 1), df_scaled['Target'])\n",
    "\n",
    "# # Get the best model\n",
    "# best_model_name, best_model = evaluator.get_best_model(models)\n",
    "\n",
    "# # Save the best model (correct static method call)\n",
    "# model_path = ModelEvaluator.save_best_model(best_model_name, best_model)\n"
   ]
  },
  {
   "cell_type": "code",
   "execution_count": null,
   "id": "1f9a7adc",
   "metadata": {},
   "outputs": [],
   "source": []
  },
  {
   "cell_type": "code",
   "execution_count": null,
   "id": "031cf721",
   "metadata": {},
   "outputs": [],
   "source": []
  }
 ],
 "metadata": {
  "kernelspec": {
   "display_name": "predictive-ml (3.12.10)",
   "language": "python",
   "name": "python3"
  },
  "language_info": {
   "codemirror_mode": {
    "name": "ipython",
    "version": 3
   },
   "file_extension": ".py",
   "mimetype": "text/x-python",
   "name": "python",
   "nbconvert_exporter": "python",
   "pygments_lexer": "ipython3",
   "version": "3.12.10"
  }
 },
 "nbformat": 4,
 "nbformat_minor": 5
}
