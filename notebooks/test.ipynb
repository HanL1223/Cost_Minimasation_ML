{
 "cells": [
  {
   "cell_type": "code",
   "execution_count": null,
   "id": "0b2f170f",
   "metadata": {},
   "outputs": [],
   "source": [
    "#Overarching importation\n",
    "import sys, os\n",
    "PROJECT_ROOT = os.path.abspath(\"..\")  # go up one directory from notebooks/\n",
    "if PROJECT_ROOT not in sys.path:\n",
    "    sys.path.insert(0, PROJECT_ROOT)\n",
    "os.chdir(PROJECT_ROOT)"
   ]
  },
  {
   "cell_type": "code",
   "execution_count": null,
   "id": "ff9328fa",
   "metadata": {},
   "outputs": [],
   "source": [
    "from src.Data_ingestor import DataIngestorFactory\n",
    "from src.Missing_value_handling import MissingValueHandler,FillMissingValue,DropMissingValue\n",
    "\n",
    "#-------#\n",
    "# To help with reading and manipulating data\n",
    "import pandas as pd\n",
    "import numpy as np\n",
    "\n",
    "# To help with data visualization\n",
    "%matplotlib inline\n",
    "import matplotlib.pyplot as plt\n",
    "import seaborn as sns\n",
    "\n",
    "# To be used for missing value imputation\n",
    "from sklearn.impute import SimpleImputer\n",
    "\n",
    "# To help with model building\n",
    "from sklearn.linear_model import LogisticRegression\n",
    "from sklearn.tree import DecisionTreeClassifier\n",
    "from sklearn.ensemble import (\n",
    "    AdaBoostClassifier,\n",
    "    GradientBoostingClassifier,\n",
    "    RandomForestClassifier,\n",
    "    BaggingClassifier,\n",
    ")\n",
    "from xgboost import XGBClassifier\n",
    "\n",
    "# To get different metric scores, and split data\n",
    "from sklearn import metrics\n",
    "#---#\n",
    "from sklearn.model_selection import train_test_split, StratifiedKFold, cross_val_score\n",
    "from sklearn.metrics import (\n",
    "    f1_score,\n",
    "    accuracy_score,\n",
    "    recall_score,\n",
    "    precision_score,\n",
    "    confusion_matrix,\n",
    "    roc_auc_score\n",
    ")\n",
    "\n",
    "# To oversample and undersample data\n",
    "from imblearn.over_sampling import SMOTE\n",
    "from imblearn.under_sampling import RandomUnderSampler\n",
    "\n",
    "# To be used for data scaling and one hot encoding\n",
    "from sklearn.preprocessing import StandardScaler, MinMaxScaler, OneHotEncoder\n",
    "\n",
    "# To be used for tuning the model\n",
    "from sklearn.model_selection import GridSearchCV, RandomizedSearchCV\n",
    "from lightgbm import LGBMClassifier\n",
    "\n",
    "# To use statistical functions\n",
    "import scipy.stats as stats\n",
    "\n",
    "# To be used for creating pipelines and personalizing them\n",
    "from sklearn.pipeline import Pipeline\n",
    "from sklearn.compose import ColumnTransformer\n",
    "\n",
    "# To define maximum number of columns to be displayed in a dataframe\n",
    "pd.set_option(\"display.max_columns\", None)\n",
    "\n",
    "# To supress scientific notations for a dataframe\n",
    "pd.set_option(\"display.float_format\", lambda x: \"%.3f\" % x)\n",
    "\n",
    "# To supress warnings\n",
    "import warnings\n",
    "\n",
    "warnings.filterwarnings(\"ignore\")"
   ]
  },
  {
   "cell_type": "code",
   "execution_count": null,
   "id": "6e764bad",
   "metadata": {},
   "outputs": [],
   "source": [
    "#Load Data\n",
    "BASE_URL = \"http://127.0.0.1:8000\"\n",
    "TRAIN_ENDPOINT = f\"{BASE_URL}/train\"\n",
    "TEST_ENDPOINT = f\"{BASE_URL}/test\""
   ]
  },
  {
   "cell_type": "code",
   "execution_count": null,
   "id": "c08bae3e",
   "metadata": {},
   "outputs": [],
   "source": [
    "#Load Data\n",
    "BASE_URL = \"http://127.0.0.1:8000\"\n",
    "TRAIN_ENDPOINT = f\"{BASE_URL}/train\"\n",
    "TEST_ENDPOINT = f\"{BASE_URL}/test\"\n",
    "df_train = DataIngestorFactory.get_data_ingestor(TRAIN_ENDPOINT).ingest(TRAIN_ENDPOINT)\n",
    "df_test = DataIngestorFactory.get_data_ingestor(TEST_ENDPOINT).ingest(TEST_ENDPOINT)"
   ]
  },
  {
   "cell_type": "code",
   "execution_count": null,
   "id": "ba2e0b90",
   "metadata": {},
   "outputs": [],
   "source": [
    "handler = MissingValueHandler(FillMissingValue,method = 'mean')\n",
    "\n",
    "handler.handle_missing_values(df_train)"
   ]
  },
  {
   "cell_type": "code",
   "execution_count": null,
   "id": "38276274",
   "metadata": {},
   "outputs": [],
   "source": [
    "from src.Data_Samplier import SamplerFactory\n",
    "\n",
    "samplier = SamplerFactory.create('smoteenn')\n",
    "df_scaled = samplier.impute(df_train,target_col= 'Target')"
   ]
  },
  {
   "cell_type": "code",
   "execution_count": null,
   "id": "ca0d93b2",
   "metadata": {},
   "outputs": [],
   "source": [
    "#If we want to scale up Trainig Set\n",
    "from src.Data_Samplier import SMOTEENNSampler\n",
    "df_scaled = SMOTEENNSampler().impute(df_train,target_col='Target')\n",
    "df_scaled['Target'].value_counts()"
   ]
  },
  {
   "cell_type": "code",
   "execution_count": null,
   "id": "921b6478",
   "metadata": {},
   "outputs": [],
   "source": [
    "from src.Model_Selector import CrossValidationEvaluation,ModelEvaluator"
   ]
  },
  {
   "cell_type": "code",
   "execution_count": null,
   "id": "c2e182ef",
   "metadata": {},
   "outputs": [],
   "source": [
    "X = df_scaled.drop('Target', axis=1)\n",
    "y = df_scaled['Target']\n",
    "\n",
    "# Split into training and validation sets\n",
    "X_train, X_val, y_train, y_val = train_test_split(\n",
    "    X, y, \n",
    "    test_size=0.2,     \n",
    "    random_state=42,    \n",
    "    stratify=y           \n",
    ")\n"
   ]
  },
  {
   "cell_type": "code",
   "execution_count": null,
   "id": "a848802c",
   "metadata": {},
   "outputs": [],
   "source": [
    "# #Model Selection\n",
    "models = [\n",
    "    (\"log\", LogisticRegression(solver=\"newton-cg\", random_state=42)),\n",
    "    (\"DecisionTreeClassifier\", DecisionTreeClassifier(random_state=42)),\n",
    "    (\"XGBClassifier\", XGBClassifier(random_state=42, eval_metric=\"logloss\", device='cpu'))\n",
    "]"
   ]
  },
  {
   "cell_type": "code",
   "execution_count": null,
   "id": "8ff789e7",
   "metadata": {},
   "outputs": [],
   "source": [
    "# Step 1: create evaluation strategy\n",
    "strategy = CrossValidationEvaluation(n_splits=5, random_state=42)\n",
    "\n",
    "# Step 2: create the evaluator with that strategy\n",
    "evaluator = ModelEvaluator(strategy=strategy)\n",
    "\n",
    "# Step 3: evaluate  models\n",
    "results = evaluator.evaluate_models(models=models, X=X_train, y=y_train)\n",
    "\n",
    "# Step 4: Return best model name and best model attribute\n",
    "best_model_name,best_model = evaluator.get_best_model(models)\n"
   ]
  },
  {
   "cell_type": "code",
   "execution_count": null,
   "id": "f8cec450",
   "metadata": {},
   "outputs": [],
   "source": [
    "#Model Tunning\n",
    "from src.Model_Tuner import OptunaTuning\n",
    "\n",
    "#Step 1 Define Tuning configuration\n",
    "tuner = OptunaTuning(config_dir=\"config\", n_trials=50, cv_folds=5)\n",
    "\n",
    "#Step 2 Run Tuning to get final model, parameter and best score\n",
    "best_model, best_params, best_score = tuner.tune(\"xgbclassifier\", XGBClassifier, X_train, y_train)\n"
   ]
  },
  {
   "cell_type": "code",
   "execution_count": null,
   "id": "2f6c67f7",
   "metadata": {},
   "outputs": [],
   "source": [
    "tuner.save_tuned_model(\"xgbclassifier\", best_model)"
   ]
  },
  {
   "cell_type": "code",
   "execution_count": null,
   "id": "5072ce30",
   "metadata": {},
   "outputs": [],
   "source": [
    "from src.Model_Evaluator import ClassificationModelEvaluator"
   ]
  },
  {
   "cell_type": "code",
   "execution_count": null,
   "id": "59e2a302",
   "metadata": {},
   "outputs": [],
   "source": [
    "eval_map = {\n",
    "        \"classification\": '123'\n",
    "       # \"regression\": \n",
    "}"
   ]
  },
  {
   "cell_type": "code",
   "execution_count": null,
   "id": "eb89a0e7",
   "metadata": {},
   "outputs": [],
   "source": [
    "BASE_URL = \"http://127.0.0.1:8000\"\n",
    "TRAIN_ENDPOINT = f\"{BASE_URL}/train\"\n",
    "TEST_ENDPOINT = f\"{BASE_URL}/test\""
   ]
  },
  {
   "cell_type": "code",
   "execution_count": null,
   "id": "4bc4ad07",
   "metadata": {},
   "outputs": [],
   "source": [
    "#Overarching importation\n",
    "import sys, os\n",
    "PROJECT_ROOT = os.path.abspath(\"..\")  # go up one directory from notebooks/\n",
    "if PROJECT_ROOT not in sys.path:\n",
    "    sys.path.insert(0, PROJECT_ROOT)\n",
    "os.chdir(PROJECT_ROOT)\n",
    "from zenml import pipeline\n",
    "from steps.Data_Ingestion_Steps import data_ingestion_step\n",
    "from steps.Data_Split_Steps import data_split_step\n",
    "from steps.Data_Sampling_Steps import data_sampling_step\n",
    "from steps.Model_Selection_Steps import model_selection_step\n",
    "from steps.Model_Tuning_Steps import model_tuning_step\n",
    "from steps.Missing_data_Handling_Steps import missing_value_step\n",
    "import os\n",
    "import sys\n",
    "import time\n",
    "import traceback\n",
    "from datetime import datetime\n",
    "from src.Get_Logging_Config import get_logger\n",
    "import joblib"
   ]
  },
  {
   "cell_type": "code",
   "execution_count": null,
   "id": "12a1ee7c",
   "metadata": {},
   "outputs": [],
   "source": [
    "logger = get_logger(__name__)"
   ]
  },
  {
   "cell_type": "code",
   "execution_count": null,
   "id": "ae0400a1",
   "metadata": {},
   "outputs": [],
   "source": [
    "TRAIN_ENDPOINT = \"http://127.0.0.1:8000/train\""
   ]
  },
  {
   "cell_type": "code",
   "execution_count": null,
   "id": "e37b538c",
   "metadata": {},
   "outputs": [],
   "source": [
    "#Data Ingestion Step\n",
    "logger.info(\"Starting data ingestion\")\n",
    "raw_data = data_ingestion_step(TRAIN_ENDPOINT)\n",
    "logger.info(f\"Data ingestion completed: {raw_data.shape}\")"
   ]
  },
  {
   "cell_type": "code",
   "execution_count": null,
   "id": "fc06bebf",
   "metadata": {},
   "outputs": [],
   "source": [
    "# === Step 2: Missing Data Handling ===\n",
    "logger.info(\" Handling missing data...\")\n",
    "clean_data = missing_value_step(raw_data,strategy='fill',method = 'medium')\n",
    "logger.info(f\"Missing data handled: {clean_data.shape}\")"
   ]
  },
  {
   "cell_type": "code",
   "execution_count": null,
   "id": "f076cf0a",
   "metadata": {},
   "outputs": [],
   "source": [
    "# === Step 3: Sampling (if needed) ===\n",
    "logger.info(\"Performing data sampling...\")\n",
    "sampled_data = data_sampling_step(method='smoteenn',df = clean_data,target_col='Target')\n",
    "logger.info(f\"Sampling completed: {sampled_data.shape}\")\n"
   ]
  },
  {
   "cell_type": "code",
   "execution_count": null,
   "id": "d961c3ac",
   "metadata": {},
   "outputs": [],
   "source": [
    "# === Step 4: Data Split ===\n",
    "logger.info(\" Splitting data into train/test sets...\")\n",
    "X_train, X_test, y_train, y_test = data_split_step(df = sampled_data,target_col = 'Target',test_size = 0.2)\n",
    "logger.info(f\"Split done: Train={len(X_train)}, Test={len(X_test)}\")"
   ]
  },
  {
   "cell_type": "code",
   "execution_count": null,
   "id": "868ec30c",
   "metadata": {},
   "outputs": [],
   "source": [
    "# === Step 5: Model Selection ===\n",
    "logger.info(\"Selecting the best model...\")\n",
    "best_model_name, best_model = model_selection_step(X_train,y_train)\n",
    "logger.info(f\"Best model: {best_model_name}\")\n"
   ]
  },
  {
   "cell_type": "code",
   "execution_count": null,
   "id": "116b5168",
   "metadata": {},
   "outputs": [],
   "source": [
    "#Model Tunning\n",
    "from src.Model_Tuner import OptunaTuning\n",
    "\n",
    "#Step 1 Define Tuning configuration\n",
    "tuner = OptunaTuning(config_dir=\"config\", n_trials=50, cv_folds=5)\n",
    "\n",
    "#Step 2 Run Tuning to get final model, parameter and best score\n",
    "best_model, best_params, best_score = tuner.tune(\"xgbclassifier\", XGBClassifier, X_train, y_train)\n"
   ]
  },
  {
   "cell_type": "code",
   "execution_count": null,
   "id": "0f6f191d",
   "metadata": {},
   "outputs": [],
   "source": [
    "# === Step 6: Model Tuning ===\n",
    "logger.info(\"Tuning best model...\")\n",
    "tuned_model, best_params, best_score = model_tuning_step(best_model_name=best_model_name,best_model = best_model,X_train=X_train,y_train=y_train)\n",
    "logger.info(f\"Model tuning done: {tuned_model.__class__.__name__} - Final score: {best_score:.2f}\")\n"
   ]
  },
  {
   "cell_type": "code",
   "execution_count": null,
   "id": "3bd138f6",
   "metadata": {},
   "outputs": [],
   "source": [
    "artifacts_dir = os.path.join(os.getcwd(), \"artifacts\")\n",
    "os.makedirs(artifacts_dir, exist_ok=True)\n"
   ]
  },
  {
   "cell_type": "code",
   "execution_count": null,
   "id": "b0792d3d",
   "metadata": {},
   "outputs": [],
   "source": [
    "timestamp = datetime.now().strftime(\"%Y%m%d_%H%M%S\")\n",
    "model_path = os.path.join(artifacts_dir, f\"best_model_{timestamp}.pkl\")\n",
    "joblib.dump(tuned_model, model_path)\n",
    "logger.info(f\"💾 Model saved at {model_path}\")"
   ]
  },
  {
   "cell_type": "code",
   "execution_count": null,
   "id": "effec230",
   "metadata": {},
   "outputs": [],
   "source": []
  }
 ],
 "metadata": {
  "kernelspec": {
   "display_name": "cost-minimization_ML",
   "language": "python",
   "name": "python3"
  },
  "language_info": {
   "codemirror_mode": {
    "name": "ipython",
    "version": 3
   },
   "file_extension": ".py",
   "mimetype": "text/x-python",
   "name": "python",
   "nbconvert_exporter": "python",
   "pygments_lexer": "ipython3",
   "version": "3.12.10"
  }
 },
 "nbformat": 4,
 "nbformat_minor": 5
}
