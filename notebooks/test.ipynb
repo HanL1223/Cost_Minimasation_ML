{
 "cells": [
  {
   "cell_type": "code",
   "execution_count": 1,
   "id": "0b2f170f",
   "metadata": {},
   "outputs": [],
   "source": [
    "#Overarching importation\n",
    "import sys, os\n",
    "PROJECT_ROOT = os.path.abspath(\"..\")  # go up one directory from notebooks/\n",
    "if PROJECT_ROOT not in sys.path:\n",
    "    sys.path.insert(0, PROJECT_ROOT)\n",
    "os.chdir(PROJECT_ROOT)"
   ]
  },
  {
   "cell_type": "code",
   "execution_count": 2,
   "id": "ff9328fa",
   "metadata": {},
   "outputs": [],
   "source": [
    "from src.Data_ingestor import DataIngestorFactory\n",
    "from src.Missing_value_handling import MissingValueHandler,FillMissingValue,DropMissingValue\n",
    "\n",
    "#-------#\n",
    "# To help with reading and manipulating data\n",
    "import pandas as pd\n",
    "import numpy as np\n",
    "\n",
    "# To help with data visualization\n",
    "%matplotlib inline\n",
    "import matplotlib.pyplot as plt\n",
    "import seaborn as sns\n",
    "\n",
    "# To be used for missing value imputation\n",
    "from sklearn.impute import SimpleImputer\n",
    "\n",
    "# To help with model building\n",
    "from sklearn.linear_model import LogisticRegression\n",
    "from sklearn.tree import DecisionTreeClassifier\n",
    "from sklearn.ensemble import (\n",
    "    AdaBoostClassifier,\n",
    "    GradientBoostingClassifier,\n",
    "    RandomForestClassifier,\n",
    "    BaggingClassifier,\n",
    ")\n",
    "from xgboost import XGBClassifier\n",
    "\n",
    "# To get different metric scores, and split data\n",
    "from sklearn import metrics\n",
    "#---#\n",
    "from sklearn.model_selection import train_test_split, StratifiedKFold, cross_val_score\n",
    "from sklearn.metrics import (\n",
    "    f1_score,\n",
    "    accuracy_score,\n",
    "    recall_score,\n",
    "    precision_score,\n",
    "    confusion_matrix,\n",
    "    roc_auc_score\n",
    ")\n",
    "\n",
    "# To oversample and undersample data\n",
    "from imblearn.over_sampling import SMOTE\n",
    "from imblearn.under_sampling import RandomUnderSampler\n",
    "\n",
    "# To be used for data scaling and one hot encoding\n",
    "from sklearn.preprocessing import StandardScaler, MinMaxScaler, OneHotEncoder\n",
    "\n",
    "# To be used for tuning the model\n",
    "from sklearn.model_selection import GridSearchCV, RandomizedSearchCV\n",
    "from lightgbm import LGBMClassifier\n",
    "\n",
    "# To use statistical functions\n",
    "import scipy.stats as stats\n",
    "\n",
    "# To be used for creating pipelines and personalizing them\n",
    "from sklearn.pipeline import Pipeline\n",
    "from sklearn.compose import ColumnTransformer\n",
    "\n",
    "# To define maximum number of columns to be displayed in a dataframe\n",
    "pd.set_option(\"display.max_columns\", None)\n",
    "\n",
    "# To supress scientific notations for a dataframe\n",
    "pd.set_option(\"display.float_format\", lambda x: \"%.3f\" % x)\n",
    "\n",
    "# To supress warnings\n",
    "import warnings\n",
    "\n",
    "warnings.filterwarnings(\"ignore\")"
   ]
  },
  {
   "cell_type": "code",
   "execution_count": 3,
   "id": "6e764bad",
   "metadata": {},
   "outputs": [],
   "source": [
    "#Load Data\n",
    "BASE_URL = \"http://127.0.0.1:8000\"\n",
    "TRAIN_ENDPOINT = f\"{BASE_URL}/train\"\n",
    "TEST_ENDPOINT = f\"{BASE_URL}/test\""
   ]
  },
  {
   "cell_type": "code",
   "execution_count": 5,
   "id": "c08bae3e",
   "metadata": {},
   "outputs": [
    {
     "name": "stdout",
     "output_type": "stream",
     "text": [
      "2025-10-12 21:45:41 [INFO] src.Data_ingestor: Fetching data from API endpoint: http://127.0.0.1:8000/train\n",
      "2025-10-12 21:45:43 [INFO] src.Data_ingestor: Received 40000 records from API\n",
      "2025-10-12 21:45:43 [INFO] src.Data_ingestor: Fetching data from API endpoint: http://127.0.0.1:8000/test\n",
      "2025-10-12 21:45:44 [INFO] src.Data_ingestor: Received 10000 records from API\n"
     ]
    }
   ],
   "source": [
    "#Load Data\n",
    "BASE_URL = \"http://127.0.0.1:8000\"\n",
    "TRAIN_ENDPOINT = f\"{BASE_URL}/train\"\n",
    "TEST_ENDPOINT = f\"{BASE_URL}/test\"\n",
    "df_train = DataIngestorFactory.get_data_ingestor(TRAIN_ENDPOINT).ingest(TRAIN_ENDPOINT)\n",
    "df_test = DataIngestorFactory.get_data_ingestor(TEST_ENDPOINT).ingest(TEST_ENDPOINT)"
   ]
  },
  {
   "cell_type": "code",
   "execution_count": 9,
   "id": "38276274",
   "metadata": {},
   "outputs": [
    {
     "name": "stdout",
     "output_type": "stream",
     "text": [
      "2025-10-12 21:47:24 [INFO] src.Data_Samplier: Applying SMOTEENN hybrid resampling. Input size: (40000, 41)\n",
      "2025-10-12 21:47:28 [INFO] src.Data_Samplier: SMOTEENN complete. Output size: (73091, 41)\n",
      "2025-10-12 21:47:28 [INFO] src.Data_Samplier: y Class: Target\n",
      "1.000    37613\n",
      "0.000    35478\n",
      "Name: count, dtype: int64\n"
     ]
    }
   ],
   "source": [
    "from src.Data_Samplier import SamplerFactory\n",
    "\n",
    "samplier = SamplerFactory.create('smoteenn')\n",
    "df_scaled = samplier.impute(df_train,target_col= 'Target')"
   ]
  },
  {
   "cell_type": "code",
   "execution_count": 9,
   "id": "ca0d93b2",
   "metadata": {},
   "outputs": [
    {
     "name": "stdout",
     "output_type": "stream",
     "text": [
      "2025-10-11 23:28:31 [INFO] src.Data_Samplier: Applying SMOTEENN hybrid resampling. Input size: (40000, 41)\n",
      "2025-10-11 23:28:35 [INFO] src.Data_Samplier: SMOTEENN complete. Output size: (73091, 41)\n",
      "2025-10-11 23:28:35 [INFO] src.Data_Samplier: y Class: Target\n",
      "1.000    37613\n",
      "0.000    35478\n",
      "Name: count, dtype: int64\n"
     ]
    },
    {
     "data": {
      "text/plain": [
       "Target\n",
       "1.000    37613\n",
       "0.000    35478\n",
       "Name: count, dtype: int64"
      ]
     },
     "execution_count": 9,
     "metadata": {},
     "output_type": "execute_result"
    }
   ],
   "source": [
    "#If we want to scale up Trainig Set\n",
    "from src.Data_Samplier import SMOTEENNSampler\n",
    "df_scaled = SMOTEENNSampler().impute(df_train,target_col='Target')\n",
    "df_scaled['Target'].value_counts()"
   ]
  },
  {
   "cell_type": "code",
   "execution_count": 10,
   "id": "921b6478",
   "metadata": {},
   "outputs": [],
   "source": [
    "from src.Model_Selector import CrossValidationEvaluation,ModelEvaluator"
   ]
  },
  {
   "cell_type": "code",
   "execution_count": 11,
   "id": "c2e182ef",
   "metadata": {},
   "outputs": [],
   "source": [
    "X = df_scaled.drop('Target', axis=1)\n",
    "y = df_scaled['Target']\n",
    "\n",
    "# Split into training and validation sets\n",
    "X_train, X_val, y_train, y_val = train_test_split(\n",
    "    X, y, \n",
    "    test_size=0.2,     \n",
    "    random_state=42,    \n",
    "    stratify=y           \n",
    ")\n"
   ]
  },
  {
   "cell_type": "code",
   "execution_count": null,
   "id": "a848802c",
   "metadata": {},
   "outputs": [],
   "source": [
    "# #Model Selection\n",
    "models = [\n",
    "    (\"log\", LogisticRegression(solver=\"newton-cg\", random_state=42)),\n",
    "    (\"DecisionTreeClassifier\", DecisionTreeClassifier(random_state=42)),\n",
    "    (\"XGBClassifier\", XGBClassifier(random_state=42, eval_metric=\"logloss\", device='cpu'))\n",
    "]"
   ]
  },
  {
   "cell_type": "code",
   "execution_count": 13,
   "id": "8ff789e7",
   "metadata": {},
   "outputs": [
    {
     "name": "stdout",
     "output_type": "stream",
     "text": [
      "2025-10-11 23:29:11 [INFO] src.Model_Selector: Evaluating models using selected strategy\n",
      "2025-10-11 23:29:11 [INFO] src.Model_Selector: Starting cross-validation with cost-sensitive scoring\n",
      "2025-10-11 23:29:14 [INFO] src.Model_Selector: log: Mean cost ratio = 0.8079 (±0.0036)\n",
      "2025-10-11 23:29:28 [INFO] src.Model_Selector: DecisionTreeClassifier: Mean cost ratio = 0.9403 (±0.0047)\n",
      "2025-10-11 23:29:31 [INFO] src.Model_Selector: XGBClassifier: Mean cost ratio = 0.9736 (±0.0028)\n",
      "2025-10-11 23:29:31 [INFO] src.Model_Selector: Best model: XGBClassifier (Score: 0.9736)\n"
     ]
    }
   ],
   "source": [
    "# Step 1: create evaluation strategy\n",
    "strategy = CrossValidationEvaluation(n_splits=5, random_state=42)\n",
    "\n",
    "# Step 2: create the evaluator with that strategy\n",
    "evaluator = ModelEvaluator(strategy=strategy)\n",
    "\n",
    "# Step 3: evaluate  models\n",
    "results = evaluator.evaluate_models(models=models, X=X_train, y=y_train)\n",
    "\n",
    "# Step 4: Return best model name and best model attribute\n",
    "best_model_name,best_model = evaluator.get_best_model(models)\n"
   ]
  },
  {
   "cell_type": "code",
   "execution_count": null,
   "id": "f8cec450",
   "metadata": {},
   "outputs": [],
   "source": [
    "#Model Tunning\n",
    "from src.Model_Tuner import OptunaTuning\n",
    "\n",
    "#Step 1 Define Tuning configuration\n",
    "tuner = OptunaTuning(config_dir=\"config\", n_trials=50, cv_folds=5)\n",
    "\n",
    "#Step 2 Run Tuning to get final model, parameter and best score\n",
    "best_model, best_params, best_score = tuner.tune(\"xgbclassifier\", XGBClassifier, X_train, y_train)\n"
   ]
  },
  {
   "cell_type": "code",
   "execution_count": null,
   "id": "2f6c67f7",
   "metadata": {},
   "outputs": [],
   "source": [
    "tuner.save_tuned_model(\"xgbclassifier\", best_model)"
   ]
  },
  {
   "cell_type": "code",
   "execution_count": 14,
   "id": "5072ce30",
   "metadata": {},
   "outputs": [],
   "source": [
    "from src.Model_Evaluator import ClassificationModelEvaluator"
   ]
  },
  {
   "cell_type": "code",
   "execution_count": 26,
   "id": "0e4996da",
   "metadata": {},
   "outputs": [
    {
     "name": "stdout",
     "output_type": "stream",
     "text": [
      "2025-10-11 23:31:00 [INFO] src.Model_Evaluator: Loaded model from /Users/hanli/cost_ml_202509/Cost_Minimasation_ML/models/tuned/xgbclassifier_optuna_tuned.pkl\n"
     ]
    }
   ],
   "source": [
    "evaluator = ClassificationModelEvaluator()\n",
    "model = evaluator.load_model(\"/Users/hanli/cost_ml_202509/Cost_Minimasation_ML/models/tuned/xgbclassifier_optuna_tuned.pkl\")"
   ]
  },
  {
   "cell_type": "code",
   "execution_count": 27,
   "id": "11049689",
   "metadata": {},
   "outputs": [
    {
     "name": "stdout",
     "output_type": "stream",
     "text": [
      "\n",
      "Evaluation Metrics:\n",
      "Accuracy: 0.9956\n",
      "Precision: 0.9956\n",
      "Recall: 0.9956\n",
      "F1 Score: 0.9956\n",
      "Min_vs_Model_Cost: 0.9882\n"
     ]
    }
   ],
   "source": [
    "# Evaluate\n",
    "metrics = evaluator.evaluate_model(model, X_val, y_val)\n",
    "\n",
    "print(\"\\nEvaluation Metrics:\")\n",
    "for k, v in metrics.items():\n",
    "    print(f\"{k}: {v:.4f}\")"
   ]
  }
 ],
 "metadata": {
  "kernelspec": {
   "display_name": "predictive-ml (3.12.10)",
   "language": "python",
   "name": "python3"
  },
  "language_info": {
   "codemirror_mode": {
    "name": "ipython",
    "version": 3
   },
   "file_extension": ".py",
   "mimetype": "text/x-python",
   "name": "python",
   "nbconvert_exporter": "python",
   "pygments_lexer": "ipython3",
   "version": "3.12.10"
  }
 },
 "nbformat": 4,
 "nbformat_minor": 5
}
